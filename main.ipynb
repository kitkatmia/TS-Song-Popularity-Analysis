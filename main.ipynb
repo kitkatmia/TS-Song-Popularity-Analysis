{
 "cells": [
  {
   "cell_type": "markdown",
   "metadata": {},
   "source": [
    "# Analysis on TS September Spotify Dataset of all Songs\n",
    "\n",
    "- Dataset link: https://www.kaggle.com/datasets/jarredpriester/taylor-swift-spotify-dataset?select=taylor_swift_spotify.csv\n",
    "  - Includes explanation of all feature signifcances\n"
   ]
  },
  {
   "cell_type": "markdown",
   "metadata": {},
   "source": [
    "## Data Cleaning / EDA\n"
   ]
  },
  {
   "cell_type": "code",
   "execution_count": 2,
   "metadata": {},
   "outputs": [
    {
     "data": {
      "text/html": [
       "<div>\n",
       "<style scoped>\n",
       "    .dataframe tbody tr th:only-of-type {\n",
       "        vertical-align: middle;\n",
       "    }\n",
       "\n",
       "    .dataframe tbody tr th {\n",
       "        vertical-align: top;\n",
       "    }\n",
       "\n",
       "    .dataframe thead th {\n",
       "        text-align: right;\n",
       "    }\n",
       "</style>\n",
       "<table border=\"1\" class=\"dataframe\">\n",
       "  <thead>\n",
       "    <tr style=\"text-align: right;\">\n",
       "      <th></th>\n",
       "      <th>Unnamed: 0</th>\n",
       "      <th>name</th>\n",
       "      <th>album</th>\n",
       "      <th>release_date</th>\n",
       "      <th>track_number</th>\n",
       "      <th>id</th>\n",
       "      <th>uri</th>\n",
       "      <th>acousticness</th>\n",
       "      <th>danceability</th>\n",
       "      <th>energy</th>\n",
       "      <th>instrumentalness</th>\n",
       "      <th>liveness</th>\n",
       "      <th>loudness</th>\n",
       "      <th>speechiness</th>\n",
       "      <th>tempo</th>\n",
       "      <th>valence</th>\n",
       "      <th>popularity</th>\n",
       "      <th>duration_ms</th>\n",
       "    </tr>\n",
       "  </thead>\n",
       "  <tbody>\n",
       "    <tr>\n",
       "      <th>0</th>\n",
       "      <td>0</td>\n",
       "      <td>Mine (Taylor's Version)</td>\n",
       "      <td>Speak Now (Taylor's Version)</td>\n",
       "      <td>2023-07-07</td>\n",
       "      <td>1</td>\n",
       "      <td>7G0gBu6nLdhFDPRLc0HdDG</td>\n",
       "      <td>spotify:track:7G0gBu6nLdhFDPRLc0HdDG</td>\n",
       "      <td>0.00444</td>\n",
       "      <td>0.646</td>\n",
       "      <td>0.783</td>\n",
       "      <td>0.000001</td>\n",
       "      <td>0.171</td>\n",
       "      <td>-2.846</td>\n",
       "      <td>0.0356</td>\n",
       "      <td>121.080</td>\n",
       "      <td>0.490</td>\n",
       "      <td>89</td>\n",
       "      <td>231706</td>\n",
       "    </tr>\n",
       "    <tr>\n",
       "      <th>1</th>\n",
       "      <td>1</td>\n",
       "      <td>Sparks Fly (Taylor’s Version)</td>\n",
       "      <td>Speak Now (Taylor's Version)</td>\n",
       "      <td>2023-07-07</td>\n",
       "      <td>2</td>\n",
       "      <td>3MytWN8L7shNYzGl4tAKRp</td>\n",
       "      <td>spotify:track:3MytWN8L7shNYzGl4tAKRp</td>\n",
       "      <td>0.02510</td>\n",
       "      <td>0.588</td>\n",
       "      <td>0.758</td>\n",
       "      <td>0.000000</td>\n",
       "      <td>0.131</td>\n",
       "      <td>-2.347</td>\n",
       "      <td>0.0305</td>\n",
       "      <td>114.991</td>\n",
       "      <td>0.387</td>\n",
       "      <td>88</td>\n",
       "      <td>261230</td>\n",
       "    </tr>\n",
       "    <tr>\n",
       "      <th>2</th>\n",
       "      <td>2</td>\n",
       "      <td>Back To December (Taylor's Version)</td>\n",
       "      <td>Speak Now (Taylor's Version)</td>\n",
       "      <td>2023-07-07</td>\n",
       "      <td>3</td>\n",
       "      <td>79uDOz0zuuWS7HWxzMmTa2</td>\n",
       "      <td>spotify:track:79uDOz0zuuWS7HWxzMmTa2</td>\n",
       "      <td>0.00621</td>\n",
       "      <td>0.497</td>\n",
       "      <td>0.635</td>\n",
       "      <td>0.000000</td>\n",
       "      <td>0.117</td>\n",
       "      <td>-3.927</td>\n",
       "      <td>0.0273</td>\n",
       "      <td>142.063</td>\n",
       "      <td>0.203</td>\n",
       "      <td>90</td>\n",
       "      <td>294189</td>\n",
       "    </tr>\n",
       "    <tr>\n",
       "      <th>3</th>\n",
       "      <td>3</td>\n",
       "      <td>Speak Now (Taylor's Version)</td>\n",
       "      <td>Speak Now (Taylor's Version)</td>\n",
       "      <td>2023-07-07</td>\n",
       "      <td>4</td>\n",
       "      <td>5xXqyjLicvEpch72qEryFT</td>\n",
       "      <td>spotify:track:5xXqyjLicvEpch72qEryFT</td>\n",
       "      <td>0.24800</td>\n",
       "      <td>0.727</td>\n",
       "      <td>0.677</td>\n",
       "      <td>0.000000</td>\n",
       "      <td>0.143</td>\n",
       "      <td>-2.871</td>\n",
       "      <td>0.0325</td>\n",
       "      <td>118.995</td>\n",
       "      <td>0.639</td>\n",
       "      <td>87</td>\n",
       "      <td>242473</td>\n",
       "    </tr>\n",
       "    <tr>\n",
       "      <th>4</th>\n",
       "      <td>4</td>\n",
       "      <td>Dear John (Taylor's Version)</td>\n",
       "      <td>Speak Now (Taylor's Version)</td>\n",
       "      <td>2023-07-07</td>\n",
       "      <td>5</td>\n",
       "      <td>1zU8j1x3yi9xalMF96pzKp</td>\n",
       "      <td>spotify:track:1zU8j1x3yi9xalMF96pzKp</td>\n",
       "      <td>0.02360</td>\n",
       "      <td>0.419</td>\n",
       "      <td>0.470</td>\n",
       "      <td>0.000000</td>\n",
       "      <td>0.163</td>\n",
       "      <td>-5.016</td>\n",
       "      <td>0.0296</td>\n",
       "      <td>119.294</td>\n",
       "      <td>0.133</td>\n",
       "      <td>87</td>\n",
       "      <td>405906</td>\n",
       "    </tr>\n",
       "  </tbody>\n",
       "</table>\n",
       "</div>"
      ],
      "text/plain": [
       "   Unnamed: 0                                 name  \\\n",
       "0           0              Mine (Taylor's Version)   \n",
       "1           1        Sparks Fly (Taylor’s Version)   \n",
       "2           2  Back To December (Taylor's Version)   \n",
       "3           3         Speak Now (Taylor's Version)   \n",
       "4           4         Dear John (Taylor's Version)   \n",
       "\n",
       "                          album release_date  track_number  \\\n",
       "0  Speak Now (Taylor's Version)   2023-07-07             1   \n",
       "1  Speak Now (Taylor's Version)   2023-07-07             2   \n",
       "2  Speak Now (Taylor's Version)   2023-07-07             3   \n",
       "3  Speak Now (Taylor's Version)   2023-07-07             4   \n",
       "4  Speak Now (Taylor's Version)   2023-07-07             5   \n",
       "\n",
       "                       id                                   uri  acousticness  \\\n",
       "0  7G0gBu6nLdhFDPRLc0HdDG  spotify:track:7G0gBu6nLdhFDPRLc0HdDG       0.00444   \n",
       "1  3MytWN8L7shNYzGl4tAKRp  spotify:track:3MytWN8L7shNYzGl4tAKRp       0.02510   \n",
       "2  79uDOz0zuuWS7HWxzMmTa2  spotify:track:79uDOz0zuuWS7HWxzMmTa2       0.00621   \n",
       "3  5xXqyjLicvEpch72qEryFT  spotify:track:5xXqyjLicvEpch72qEryFT       0.24800   \n",
       "4  1zU8j1x3yi9xalMF96pzKp  spotify:track:1zU8j1x3yi9xalMF96pzKp       0.02360   \n",
       "\n",
       "   danceability  energy  instrumentalness  liveness  loudness  speechiness  \\\n",
       "0         0.646   0.783          0.000001     0.171    -2.846       0.0356   \n",
       "1         0.588   0.758          0.000000     0.131    -2.347       0.0305   \n",
       "2         0.497   0.635          0.000000     0.117    -3.927       0.0273   \n",
       "3         0.727   0.677          0.000000     0.143    -2.871       0.0325   \n",
       "4         0.419   0.470          0.000000     0.163    -5.016       0.0296   \n",
       "\n",
       "     tempo  valence  popularity  duration_ms  \n",
       "0  121.080    0.490          89       231706  \n",
       "1  114.991    0.387          88       261230  \n",
       "2  142.063    0.203          90       294189  \n",
       "3  118.995    0.639          87       242473  \n",
       "4  119.294    0.133          87       405906  "
      ]
     },
     "execution_count": 2,
     "metadata": {},
     "output_type": "execute_result"
    }
   ],
   "source": [
    "import pandas as pd\n",
    "\n",
    "df = pd.read_csv(\"data/taylor_swift_spotify.csv\") # last update in early August 2023 (popularity based on spotify rankings then; not overall)\n",
    "df.head()"
   ]
  },
  {
   "cell_type": "code",
   "execution_count": 3,
   "metadata": {},
   "outputs": [
    {
     "data": {
      "text/plain": [
       "Index(['Unnamed: 0', 'name', 'album', 'release_date', 'track_number', 'id',\n",
       "       'uri', 'acousticness', 'danceability', 'energy', 'instrumentalness',\n",
       "       'liveness', 'loudness', 'speechiness', 'tempo', 'valence', 'popularity',\n",
       "       'duration_ms'],\n",
       "      dtype='object')"
      ]
     },
     "execution_count": 3,
     "metadata": {},
     "output_type": "execute_result"
    }
   ],
   "source": [
    "df.columns"
   ]
  },
  {
   "cell_type": "code",
   "execution_count": 4,
   "metadata": {},
   "outputs": [
    {
     "data": {
      "text/plain": [
       "(476, 18)"
      ]
     },
     "execution_count": 4,
     "metadata": {},
     "output_type": "execute_result"
    }
   ],
   "source": [
    "df.shape # pretty small sample size, all thing relative"
   ]
  },
  {
   "cell_type": "code",
   "execution_count": 5,
   "metadata": {},
   "outputs": [
    {
     "data": {
      "text/html": [
       "<div>\n",
       "<style scoped>\n",
       "    .dataframe tbody tr th:only-of-type {\n",
       "        vertical-align: middle;\n",
       "    }\n",
       "\n",
       "    .dataframe tbody tr th {\n",
       "        vertical-align: top;\n",
       "    }\n",
       "\n",
       "    .dataframe thead th {\n",
       "        text-align: right;\n",
       "    }\n",
       "</style>\n",
       "<table border=\"1\" class=\"dataframe\">\n",
       "  <thead>\n",
       "    <tr style=\"text-align: right;\">\n",
       "      <th></th>\n",
       "      <th>name</th>\n",
       "      <th>album</th>\n",
       "      <th>release_date</th>\n",
       "      <th>track_number</th>\n",
       "      <th>id</th>\n",
       "      <th>acousticness</th>\n",
       "      <th>danceability</th>\n",
       "      <th>energy</th>\n",
       "      <th>instrumentalness</th>\n",
       "      <th>liveness</th>\n",
       "      <th>loudness</th>\n",
       "      <th>speechiness</th>\n",
       "      <th>tempo</th>\n",
       "      <th>valence</th>\n",
       "      <th>popularity</th>\n",
       "      <th>duration_ms</th>\n",
       "    </tr>\n",
       "  </thead>\n",
       "  <tbody>\n",
       "    <tr>\n",
       "      <th>0</th>\n",
       "      <td>Mine (Taylor's Version)</td>\n",
       "      <td>Speak Now (Taylor's Version)</td>\n",
       "      <td>2023-07-07</td>\n",
       "      <td>1</td>\n",
       "      <td>7G0gBu6nLdhFDPRLc0HdDG</td>\n",
       "      <td>0.00444</td>\n",
       "      <td>0.646</td>\n",
       "      <td>0.783</td>\n",
       "      <td>0.000001</td>\n",
       "      <td>0.171</td>\n",
       "      <td>-2.846</td>\n",
       "      <td>0.0356</td>\n",
       "      <td>121.080</td>\n",
       "      <td>0.490</td>\n",
       "      <td>89</td>\n",
       "      <td>231706</td>\n",
       "    </tr>\n",
       "    <tr>\n",
       "      <th>1</th>\n",
       "      <td>Sparks Fly (Taylor’s Version)</td>\n",
       "      <td>Speak Now (Taylor's Version)</td>\n",
       "      <td>2023-07-07</td>\n",
       "      <td>2</td>\n",
       "      <td>3MytWN8L7shNYzGl4tAKRp</td>\n",
       "      <td>0.02510</td>\n",
       "      <td>0.588</td>\n",
       "      <td>0.758</td>\n",
       "      <td>0.000000</td>\n",
       "      <td>0.131</td>\n",
       "      <td>-2.347</td>\n",
       "      <td>0.0305</td>\n",
       "      <td>114.991</td>\n",
       "      <td>0.387</td>\n",
       "      <td>88</td>\n",
       "      <td>261230</td>\n",
       "    </tr>\n",
       "    <tr>\n",
       "      <th>2</th>\n",
       "      <td>Back To December (Taylor's Version)</td>\n",
       "      <td>Speak Now (Taylor's Version)</td>\n",
       "      <td>2023-07-07</td>\n",
       "      <td>3</td>\n",
       "      <td>79uDOz0zuuWS7HWxzMmTa2</td>\n",
       "      <td>0.00621</td>\n",
       "      <td>0.497</td>\n",
       "      <td>0.635</td>\n",
       "      <td>0.000000</td>\n",
       "      <td>0.117</td>\n",
       "      <td>-3.927</td>\n",
       "      <td>0.0273</td>\n",
       "      <td>142.063</td>\n",
       "      <td>0.203</td>\n",
       "      <td>90</td>\n",
       "      <td>294189</td>\n",
       "    </tr>\n",
       "    <tr>\n",
       "      <th>3</th>\n",
       "      <td>Speak Now (Taylor's Version)</td>\n",
       "      <td>Speak Now (Taylor's Version)</td>\n",
       "      <td>2023-07-07</td>\n",
       "      <td>4</td>\n",
       "      <td>5xXqyjLicvEpch72qEryFT</td>\n",
       "      <td>0.24800</td>\n",
       "      <td>0.727</td>\n",
       "      <td>0.677</td>\n",
       "      <td>0.000000</td>\n",
       "      <td>0.143</td>\n",
       "      <td>-2.871</td>\n",
       "      <td>0.0325</td>\n",
       "      <td>118.995</td>\n",
       "      <td>0.639</td>\n",
       "      <td>87</td>\n",
       "      <td>242473</td>\n",
       "    </tr>\n",
       "    <tr>\n",
       "      <th>4</th>\n",
       "      <td>Dear John (Taylor's Version)</td>\n",
       "      <td>Speak Now (Taylor's Version)</td>\n",
       "      <td>2023-07-07</td>\n",
       "      <td>5</td>\n",
       "      <td>1zU8j1x3yi9xalMF96pzKp</td>\n",
       "      <td>0.02360</td>\n",
       "      <td>0.419</td>\n",
       "      <td>0.470</td>\n",
       "      <td>0.000000</td>\n",
       "      <td>0.163</td>\n",
       "      <td>-5.016</td>\n",
       "      <td>0.0296</td>\n",
       "      <td>119.294</td>\n",
       "      <td>0.133</td>\n",
       "      <td>87</td>\n",
       "      <td>405906</td>\n",
       "    </tr>\n",
       "  </tbody>\n",
       "</table>\n",
       "</div>"
      ],
      "text/plain": [
       "                                  name                         album  \\\n",
       "0              Mine (Taylor's Version)  Speak Now (Taylor's Version)   \n",
       "1        Sparks Fly (Taylor’s Version)  Speak Now (Taylor's Version)   \n",
       "2  Back To December (Taylor's Version)  Speak Now (Taylor's Version)   \n",
       "3         Speak Now (Taylor's Version)  Speak Now (Taylor's Version)   \n",
       "4         Dear John (Taylor's Version)  Speak Now (Taylor's Version)   \n",
       "\n",
       "  release_date  track_number                      id  acousticness  \\\n",
       "0   2023-07-07             1  7G0gBu6nLdhFDPRLc0HdDG       0.00444   \n",
       "1   2023-07-07             2  3MytWN8L7shNYzGl4tAKRp       0.02510   \n",
       "2   2023-07-07             3  79uDOz0zuuWS7HWxzMmTa2       0.00621   \n",
       "3   2023-07-07             4  5xXqyjLicvEpch72qEryFT       0.24800   \n",
       "4   2023-07-07             5  1zU8j1x3yi9xalMF96pzKp       0.02360   \n",
       "\n",
       "   danceability  energy  instrumentalness  liveness  loudness  speechiness  \\\n",
       "0         0.646   0.783          0.000001     0.171    -2.846       0.0356   \n",
       "1         0.588   0.758          0.000000     0.131    -2.347       0.0305   \n",
       "2         0.497   0.635          0.000000     0.117    -3.927       0.0273   \n",
       "3         0.727   0.677          0.000000     0.143    -2.871       0.0325   \n",
       "4         0.419   0.470          0.000000     0.163    -5.016       0.0296   \n",
       "\n",
       "     tempo  valence  popularity  duration_ms  \n",
       "0  121.080    0.490          89       231706  \n",
       "1  114.991    0.387          88       261230  \n",
       "2  142.063    0.203          90       294189  \n",
       "3  118.995    0.639          87       242473  \n",
       "4  119.294    0.133          87       405906  "
      ]
     },
     "execution_count": 5,
     "metadata": {},
     "output_type": "execute_result"
    }
   ],
   "source": [
    "df.drop([\"Unnamed: 0\", \"uri\"], inplace=True, axis=1)\n",
    "df.head()"
   ]
  },
  {
   "cell_type": "code",
   "execution_count": 6,
   "metadata": {},
   "outputs": [
    {
     "data": {
      "text/plain": [
       "array([\"Speak Now (Taylor's Version)\", 'Midnights (The Til Dawn Edition)',\n",
       "       'Midnights (3am Edition)', 'Midnights', \"Red (Taylor's Version)\",\n",
       "       \"Fearless (Taylor's Version)\", 'evermore (deluxe version)',\n",
       "       'evermore',\n",
       "       'folklore: the long pond studio sessions (from the Disney+ special) [deluxe edition]',\n",
       "       'folklore (deluxe version)', 'folklore', 'Lover', 'reputation',\n",
       "       'reputation Stadium Tour Surprise Song Playlist', '1989 (Deluxe)',\n",
       "       '1989', 'Red (Deluxe Edition)', 'Speak Now World Tour Live',\n",
       "       'Speak Now', 'Speak Now (Deluxe Package)',\n",
       "       'Fearless (Platinum Edition)', 'Fearless (International Version)',\n",
       "       'Live From Clear Channel Stripped 2008', 'Taylor Swift'],\n",
       "      dtype=object)"
      ]
     },
     "execution_count": 6,
     "metadata": {},
     "output_type": "execute_result"
    }
   ],
   "source": [
    "df.album.unique()"
   ]
  },
  {
   "cell_type": "code",
   "execution_count": 7,
   "metadata": {},
   "outputs": [],
   "source": [
    "df = df[df.album.isin([\"folklore: the long pond studio sessions (from the Disney+ special) [deluxe edition]\", \"reputation Stadium Tour Surprise Song Playlist\", \"Speak Now World Tour Live\", \"Live From Clear Channel Stripped 2008\"]) == False]"
   ]
  },
  {
   "cell_type": "code",
   "execution_count": 8,
   "metadata": {},
   "outputs": [
    {
     "data": {
      "text/plain": [
       "array([\"Speak Now (Taylor's Version)\", 'Midnights (The Til Dawn Edition)',\n",
       "       'Midnights (3am Edition)', 'Midnights', \"Red (Taylor's Version)\",\n",
       "       \"Fearless (Taylor's Version)\", 'evermore (deluxe version)',\n",
       "       'evermore', 'folklore (deluxe version)', 'folklore', 'Lover',\n",
       "       'reputation', '1989 (Deluxe)', '1989', 'Red (Deluxe Edition)',\n",
       "       'Speak Now', 'Speak Now (Deluxe Package)',\n",
       "       'Fearless (Platinum Edition)', 'Fearless (International Version)',\n",
       "       'Taylor Swift'], dtype=object)"
      ]
     },
     "execution_count": 8,
     "metadata": {},
     "output_type": "execute_result"
    }
   ],
   "source": [
    "df.album.unique()"
   ]
  },
  {
   "cell_type": "code",
   "execution_count": 9,
   "metadata": {},
   "outputs": [],
   "source": [
    "df.loc[df[\"album\"].isin([\"Midnights (The Til Dawn Edition)\", \"Midnights (3am Edition)\"]), \"album\"] = \"Midnights\"\n",
    "\n",
    "df.loc[df['album'] == 'folklore (deluxe version)', \"album\"] = \"folklore\"\n",
    "\n",
    "df.loc[df[\"album\"] == \"evermore (deluxe version)\", \"album\"] = \"evermore\"\n",
    "\n",
    "df.loc[df[\"album\"] == \"1989 (Deluxe)\", \"album\"] = \"1989\"\n",
    "\n",
    "df.loc[df[\"album\"] == 'Speak Now (Deluxe Package)', \"album\"] = \"Speak Now\"\n",
    "\n",
    "df.loc[df[\"album\"] == 'Red (Deluxe Package)', \"album\"] = \"Red\"\n",
    "\n",
    "df.loc[df[\"album\"].isin([\"Fearless (International Version)\", \"Fearless (Platinum Edition)\"]), \"album\"] = \"Fearless\""
   ]
  },
  {
   "cell_type": "code",
   "execution_count": 10,
   "metadata": {},
   "outputs": [],
   "source": [
    "features = ['acousticness',\n",
    "       'danceability', 'energy', 'instrumentalness', 'liveness', 'loudness',\n",
    "       'speechiness', 'tempo', 'valence', 'duration_ms']\n",
    "\n",
    "df.drop_duplicates(subset=features, keep='first', inplace=True) # this will drop songs that have different categories like folklore: the long pond studio sessions vs folklore: deluxe version but the same name"
   ]
  },
  {
   "cell_type": "code",
   "execution_count": 11,
   "metadata": {},
   "outputs": [
    {
     "data": {
      "text/plain": [
       "array([\"Speak Now (Taylor's Version)\", 'Midnights',\n",
       "       \"Red (Taylor's Version)\", \"Fearless (Taylor's Version)\",\n",
       "       'evermore', 'folklore', 'Lover', 'reputation', '1989',\n",
       "       'Red (Deluxe Edition)', 'Speak Now', 'Fearless', 'Taylor Swift'],\n",
       "      dtype=object)"
      ]
     },
     "execution_count": 11,
     "metadata": {},
     "output_type": "execute_result"
    }
   ],
   "source": [
    "df[\"album\"].unique()"
   ]
  },
  {
   "cell_type": "code",
   "execution_count": 12,
   "metadata": {},
   "outputs": [
    {
     "name": "stdout",
     "output_type": "stream",
     "text": [
      "<class 'pandas.core.frame.DataFrame'>\n",
      "Int64Index: 345 entries, 0 to 475\n",
      "Data columns (total 16 columns):\n",
      " #   Column            Non-Null Count  Dtype  \n",
      "---  ------            --------------  -----  \n",
      " 0   name              345 non-null    object \n",
      " 1   album             345 non-null    object \n",
      " 2   release_date      345 non-null    object \n",
      " 3   track_number      345 non-null    int64  \n",
      " 4   id                345 non-null    object \n",
      " 5   acousticness      345 non-null    float64\n",
      " 6   danceability      345 non-null    float64\n",
      " 7   energy            345 non-null    float64\n",
      " 8   instrumentalness  345 non-null    float64\n",
      " 9   liveness          345 non-null    float64\n",
      " 10  loudness          345 non-null    float64\n",
      " 11  speechiness       345 non-null    float64\n",
      " 12  tempo             345 non-null    float64\n",
      " 13  valence           345 non-null    float64\n",
      " 14  popularity        345 non-null    int64  \n",
      " 15  duration_ms       345 non-null    int64  \n",
      "dtypes: float64(9), int64(3), object(4)\n",
      "memory usage: 45.8+ KB\n"
     ]
    }
   ],
   "source": [
    "df.info()"
   ]
  },
  {
   "cell_type": "markdown",
   "metadata": {},
   "source": [
    "# Tracks vs Popularity\n",
    "\n",
    "- What's associated with track popularity?\n",
    "- What were the most popular tracks generally and per album?\n"
   ]
  },
  {
   "cell_type": "code",
   "execution_count": 13,
   "metadata": {},
   "outputs": [
    {
     "data": {
      "image/png": "[encoded data removed]",
      "text/plain": [
       "<Figure size 432x288 with 2 Axes>"
      ]
     },
     "metadata": {
      "needs_background": "light"
     },
     "output_type": "display_data"
    }
   ],
   "source": [
    "import seaborn as sns\n",
    "import matplotlib.pyplot as plt\n",
    "sns.heatmap(df.corr())\n",
    "plt.show()"
   ]
  },
  {
   "cell_type": "code",
   "execution_count": 14,
   "metadata": {},
   "outputs": [
    {
     "data": {
      "text/plain": [
       "popularity          1.000000\n",
       "energy              0.058462\n",
       "duration_ms         0.053504\n",
       "loudness            0.035260\n",
       "tempo               0.016573\n",
       "danceability        0.014628\n",
       "instrumentalness    0.012576\n",
       "acousticness       -0.011501\n",
       "valence            -0.012696\n",
       "track_number       -0.129463\n",
       "liveness           -0.194632\n",
       "speechiness        -0.235326\n",
       "Name: popularity, dtype: float64"
      ]
     },
     "execution_count": 14,
     "metadata": {},
     "output_type": "execute_result"
    }
   ],
   "source": [
    "df.corr()[\"popularity\"].sort_values(ascending=False)"
   ]
  },
  {
   "cell_type": "code",
   "execution_count": 15,
   "metadata": {},
   "outputs": [
    {
     "data": {
      "text/html": [
       "<div>\n",
       "<style scoped>\n",
       "    .dataframe tbody tr th:only-of-type {\n",
       "        vertical-align: middle;\n",
       "    }\n",
       "\n",
       "    .dataframe tbody tr th {\n",
       "        vertical-align: top;\n",
       "    }\n",
       "\n",
       "    .dataframe thead th {\n",
       "        text-align: right;\n",
       "    }\n",
       "</style>\n",
       "<table border=\"1\" class=\"dataframe\">\n",
       "  <thead>\n",
       "    <tr style=\"text-align: right;\">\n",
       "      <th></th>\n",
       "      <th>name</th>\n",
       "      <th>album</th>\n",
       "      <th>release_date</th>\n",
       "      <th>track_number</th>\n",
       "      <th>id</th>\n",
       "      <th>acousticness</th>\n",
       "      <th>danceability</th>\n",
       "      <th>energy</th>\n",
       "      <th>instrumentalness</th>\n",
       "      <th>liveness</th>\n",
       "      <th>loudness</th>\n",
       "      <th>speechiness</th>\n",
       "      <th>tempo</th>\n",
       "      <th>valence</th>\n",
       "      <th>popularity</th>\n",
       "      <th>duration_ms</th>\n",
       "    </tr>\n",
       "  </thead>\n",
       "  <tbody>\n",
       "    <tr>\n",
       "      <th>234</th>\n",
       "      <td>Cruel Summer</td>\n",
       "      <td>Lover</td>\n",
       "      <td>2019-08-23</td>\n",
       "      <td>2</td>\n",
       "      <td>1BxfuPKGuaTgP7aM0Bbdwr</td>\n",
       "      <td>0.11700</td>\n",
       "      <td>0.552</td>\n",
       "      <td>0.702</td>\n",
       "      <td>0.000021</td>\n",
       "      <td>0.1050</td>\n",
       "      <td>-5.707</td>\n",
       "      <td>0.1570</td>\n",
       "      <td>169.994</td>\n",
       "      <td>0.5640</td>\n",
       "      <td>99</td>\n",
       "      <td>178426</td>\n",
       "    </tr>\n",
       "    <tr>\n",
       "      <th>67</th>\n",
       "      <td>Anti-Hero</td>\n",
       "      <td>Midnights</td>\n",
       "      <td>2022-10-21</td>\n",
       "      <td>3</td>\n",
       "      <td>0V3wPSX9ygBnCm8psDIegu</td>\n",
       "      <td>0.13000</td>\n",
       "      <td>0.637</td>\n",
       "      <td>0.643</td>\n",
       "      <td>0.000002</td>\n",
       "      <td>0.1420</td>\n",
       "      <td>-6.571</td>\n",
       "      <td>0.0519</td>\n",
       "      <td>97.008</td>\n",
       "      <td>0.5330</td>\n",
       "      <td>94</td>\n",
       "      <td>200690</td>\n",
       "    </tr>\n",
       "    <tr>\n",
       "      <th>18</th>\n",
       "      <td>I Can See You (Taylor’s Version) (From The Vault)</td>\n",
       "      <td>Speak Now (Taylor's Version)</td>\n",
       "      <td>2023-07-07</td>\n",
       "      <td>19</td>\n",
       "      <td>5kHMfzgLZP95O9NBy0ku4v</td>\n",
       "      <td>0.05860</td>\n",
       "      <td>0.694</td>\n",
       "      <td>0.764</td>\n",
       "      <td>0.000000</td>\n",
       "      <td>0.0608</td>\n",
       "      <td>-4.893</td>\n",
       "      <td>0.0337</td>\n",
       "      <td>123.044</td>\n",
       "      <td>0.8190</td>\n",
       "      <td>93</td>\n",
       "      <td>273186</td>\n",
       "    </tr>\n",
       "    <tr>\n",
       "      <th>218</th>\n",
       "      <td>cardigan</td>\n",
       "      <td>folklore</td>\n",
       "      <td>2020-07-24</td>\n",
       "      <td>2</td>\n",
       "      <td>4R2kfaDFhslZEMJqAFNpdd</td>\n",
       "      <td>0.53700</td>\n",
       "      <td>0.613</td>\n",
       "      <td>0.581</td>\n",
       "      <td>0.000345</td>\n",
       "      <td>0.2500</td>\n",
       "      <td>-8.588</td>\n",
       "      <td>0.0424</td>\n",
       "      <td>130.033</td>\n",
       "      <td>0.5510</td>\n",
       "      <td>92</td>\n",
       "      <td>239560</td>\n",
       "    </tr>\n",
       "    <tr>\n",
       "      <th>75</th>\n",
       "      <td>Karma</td>\n",
       "      <td>Midnights</td>\n",
       "      <td>2022-10-21</td>\n",
       "      <td>11</td>\n",
       "      <td>7KokYm8cMIXCsGVmUvKtqf</td>\n",
       "      <td>0.07340</td>\n",
       "      <td>0.642</td>\n",
       "      <td>0.620</td>\n",
       "      <td>0.000000</td>\n",
       "      <td>0.4830</td>\n",
       "      <td>-7.091</td>\n",
       "      <td>0.0666</td>\n",
       "      <td>90.020</td>\n",
       "      <td>0.0969</td>\n",
       "      <td>91</td>\n",
       "      <td>204852</td>\n",
       "    </tr>\n",
       "    <tr>\n",
       "      <th>235</th>\n",
       "      <td>Lover</td>\n",
       "      <td>Lover</td>\n",
       "      <td>2019-08-23</td>\n",
       "      <td>3</td>\n",
       "      <td>1dGr1c8CrMLDpV6mPbImSI</td>\n",
       "      <td>0.49200</td>\n",
       "      <td>0.359</td>\n",
       "      <td>0.543</td>\n",
       "      <td>0.000016</td>\n",
       "      <td>0.1180</td>\n",
       "      <td>-7.582</td>\n",
       "      <td>0.0919</td>\n",
       "      <td>68.534</td>\n",
       "      <td>0.4530</td>\n",
       "      <td>91</td>\n",
       "      <td>221306</td>\n",
       "    </tr>\n",
       "    <tr>\n",
       "      <th>254</th>\n",
       "      <td>Don’t Blame Me</td>\n",
       "      <td>reputation</td>\n",
       "      <td>2017-11-10</td>\n",
       "      <td>4</td>\n",
       "      <td>1R0a2iXumgCiFb7HEZ7gUE</td>\n",
       "      <td>0.10600</td>\n",
       "      <td>0.615</td>\n",
       "      <td>0.534</td>\n",
       "      <td>0.000018</td>\n",
       "      <td>0.0607</td>\n",
       "      <td>-6.719</td>\n",
       "      <td>0.0386</td>\n",
       "      <td>135.917</td>\n",
       "      <td>0.1930</td>\n",
       "      <td>91</td>\n",
       "      <td>236413</td>\n",
       "    </tr>\n",
       "    <tr>\n",
       "      <th>313</th>\n",
       "      <td>Blank Space</td>\n",
       "      <td>1989</td>\n",
       "      <td>2014-01-01</td>\n",
       "      <td>2</td>\n",
       "      <td>1u8c2t2Cy7UBoG4ArRcF5g</td>\n",
       "      <td>0.10300</td>\n",
       "      <td>0.760</td>\n",
       "      <td>0.703</td>\n",
       "      <td>0.000000</td>\n",
       "      <td>0.0913</td>\n",
       "      <td>-5.412</td>\n",
       "      <td>0.0540</td>\n",
       "      <td>95.997</td>\n",
       "      <td>0.5700</td>\n",
       "      <td>91</td>\n",
       "      <td>231826</td>\n",
       "    </tr>\n",
       "    <tr>\n",
       "      <th>314</th>\n",
       "      <td>Style</td>\n",
       "      <td>1989</td>\n",
       "      <td>2014-01-01</td>\n",
       "      <td>3</td>\n",
       "      <td>0ug5NqcwcFR2xrfTkc7k8e</td>\n",
       "      <td>0.00245</td>\n",
       "      <td>0.588</td>\n",
       "      <td>0.791</td>\n",
       "      <td>0.002580</td>\n",
       "      <td>0.1180</td>\n",
       "      <td>-5.595</td>\n",
       "      <td>0.0402</td>\n",
       "      <td>94.933</td>\n",
       "      <td>0.4870</td>\n",
       "      <td>91</td>\n",
       "      <td>231000</td>\n",
       "    </tr>\n",
       "    <tr>\n",
       "      <th>2</th>\n",
       "      <td>Back To December (Taylor's Version)</td>\n",
       "      <td>Speak Now (Taylor's Version)</td>\n",
       "      <td>2023-07-07</td>\n",
       "      <td>3</td>\n",
       "      <td>79uDOz0zuuWS7HWxzMmTa2</td>\n",
       "      <td>0.00621</td>\n",
       "      <td>0.497</td>\n",
       "      <td>0.635</td>\n",
       "      <td>0.000000</td>\n",
       "      <td>0.1170</td>\n",
       "      <td>-3.927</td>\n",
       "      <td>0.0273</td>\n",
       "      <td>142.063</td>\n",
       "      <td>0.2030</td>\n",
       "      <td>90</td>\n",
       "      <td>294189</td>\n",
       "    </tr>\n",
       "  </tbody>\n",
       "</table>\n",
       "</div>"
      ],
      "text/plain": [
       "                                                  name  \\\n",
       "234                                       Cruel Summer   \n",
       "67                                           Anti-Hero   \n",
       "18   I Can See You (Taylor’s Version) (From The Vault)   \n",
       "218                                           cardigan   \n",
       "75                                               Karma   \n",
       "235                                              Lover   \n",
       "254                                     Don’t Blame Me   \n",
       "313                                        Blank Space   \n",
       "314                                              Style   \n",
       "2                  Back To December (Taylor's Version)   \n",
       "\n",
       "                            album release_date  track_number  \\\n",
       "234                         Lover   2019-08-23             2   \n",
       "67                      Midnights   2022-10-21             3   \n",
       "18   Speak Now (Taylor's Version)   2023-07-07            19   \n",
       "218                      folklore   2020-07-24             2   \n",
       "75                      Midnights   2022-10-21            11   \n",
       "235                         Lover   2019-08-23             3   \n",
       "254                    reputation   2017-11-10             4   \n",
       "313                          1989   2014-01-01             2   \n",
       "314                          1989   2014-01-01             3   \n",
       "2    Speak Now (Taylor's Version)   2023-07-07             3   \n",
       "\n",
       "                         id  acousticness  danceability  energy  \\\n",
       "234  1BxfuPKGuaTgP7aM0Bbdwr       0.11700         0.552   0.702   \n",
       "67   0V3wPSX9ygBnCm8psDIegu       0.13000         0.637   0.643   \n",
       "18   5kHMfzgLZP95O9NBy0ku4v       0.05860         0.694   0.764   \n",
       "218  4R2kfaDFhslZEMJqAFNpdd       0.53700         0.613   0.581   \n",
       "75   7KokYm8cMIXCsGVmUvKtqf       0.07340         0.642   0.620   \n",
       "235  1dGr1c8CrMLDpV6mPbImSI       0.49200         0.359   0.543   \n",
       "254  1R0a2iXumgCiFb7HEZ7gUE       0.10600         0.615   0.534   \n",
       "313  1u8c2t2Cy7UBoG4ArRcF5g       0.10300         0.760   0.703   \n",
       "314  0ug5NqcwcFR2xrfTkc7k8e       0.00245         0.588   0.791   \n",
       "2    79uDOz0zuuWS7HWxzMmTa2       0.00621         0.497   0.635   \n",
       "\n",
       "     instrumentalness  liveness  loudness  speechiness    tempo  valence  \\\n",
       "234          0.000021    0.1050    -5.707       0.1570  169.994   0.5640   \n",
       "67           0.000002    0.1420    -6.571       0.0519   97.008   0.5330   \n",
       "18           0.000000    0.0608    -4.893       0.0337  123.044   0.8190   \n",
       "218          0.000345    0.2500    -8.588       0.0424  130.033   0.5510   \n",
       "75           0.000000    0.4830    -7.091       0.0666   90.020   0.0969   \n",
       "235          0.000016    0.1180    -7.582       0.0919   68.534   0.4530   \n",
       "254          0.000018    0.0607    -6.719       0.0386  135.917   0.1930   \n",
       "313          0.000000    0.0913    -5.412       0.0540   95.997   0.5700   \n",
       "314          0.002580    0.1180    -5.595       0.0402   94.933   0.4870   \n",
       "2            0.000000    0.1170    -3.927       0.0273  142.063   0.2030   \n",
       "\n",
       "     popularity  duration_ms  \n",
       "234          99       178426  \n",
       "67           94       200690  \n",
       "18           93       273186  \n",
       "218          92       239560  \n",
       "75           91       204852  \n",
       "235          91       221306  \n",
       "254          91       236413  \n",
       "313          91       231826  \n",
       "314          91       231000  \n",
       "2            90       294189  "
      ]
     },
     "execution_count": 15,
     "metadata": {},
     "output_type": "execute_result"
    }
   ],
   "source": [
    "df.nlargest(10, \"popularity\")"
   ]
  },
  {
   "cell_type": "code",
   "execution_count": 16,
   "metadata": {},
   "outputs": [],
   "source": [
    "df['release_year'] = pd.to_datetime(df['release_date']).dt.year"
   ]
  },
  {
   "cell_type": "code",
   "execution_count": 17,
   "metadata": {},
   "outputs": [
    {
     "data": {
      "text/plain": [
       "album                         release_year\n",
       "Fearless                      2008            35\n",
       "folklore                      2020            33\n",
       "Midnights                     2022            33\n",
       "1989                          2014            32\n",
       "Red (Taylor's Version)        2021            30\n",
       "Fearless (Taylor's Version)   2021            26\n",
       "Speak Now                     2010            24\n",
       "Midnights                     2023            23\n",
       "Speak Now (Taylor's Version)  2023            22\n",
       "Red (Deluxe Edition)          2012            22\n",
       "Lover                         2019            18\n",
       "evermore                      2021            17\n",
       "reputation                    2017            15\n",
       "Taylor Swift                  2006            15\n",
       "dtype: int64"
      ]
     },
     "execution_count": 17,
     "metadata": {},
     "output_type": "execute_result"
    }
   ],
   "source": [
    "df.sort_values(['release_year'],ascending=False)[[\"album\", \"release_year\"]].value_counts() # discreptencies in albums release dates due to deluxes "
   ]
  },
  {
   "cell_type": "code",
   "execution_count": 18,
   "metadata": {},
   "outputs": [],
   "source": [
    "df.loc[df[\"album\"]==\"Midnights\", [\"release_year\"]] = 2022\n",
    "df.loc[df[\"album\"]==\"evermore\", [\"release_year\"]] = 2020"
   ]
  },
  {
   "cell_type": "code",
   "execution_count": 19,
   "metadata": {},
   "outputs": [
    {
     "data": {
      "text/html": [
       "<div>\n",
       "<style scoped>\n",
       "    .dataframe tbody tr th:only-of-type {\n",
       "        vertical-align: middle;\n",
       "    }\n",
       "\n",
       "    .dataframe tbody tr th {\n",
       "        vertical-align: top;\n",
       "    }\n",
       "\n",
       "    .dataframe thead th {\n",
       "        text-align: right;\n",
       "    }\n",
       "</style>\n",
       "<table border=\"1\" class=\"dataframe\">\n",
       "  <thead>\n",
       "    <tr style=\"text-align: right;\">\n",
       "      <th></th>\n",
       "      <th>name</th>\n",
       "      <th>release_year</th>\n",
       "      <th>popularity</th>\n",
       "    </tr>\n",
       "  </thead>\n",
       "  <tbody>\n",
       "    <tr>\n",
       "      <th>471</th>\n",
       "      <td>Our Song</td>\n",
       "      <td>2006</td>\n",
       "      <td>71</td>\n",
       "    </tr>\n",
       "    <tr>\n",
       "      <th>462</th>\n",
       "      <td>Picture To Burn</td>\n",
       "      <td>2006</td>\n",
       "      <td>68</td>\n",
       "    </tr>\n",
       "    <tr>\n",
       "      <th>463</th>\n",
       "      <td>Teardrops On My Guitar - Radio Single Remix</td>\n",
       "      <td>2006</td>\n",
       "      <td>67</td>\n",
       "    </tr>\n",
       "    <tr>\n",
       "      <th>426</th>\n",
       "      <td>Love Story</td>\n",
       "      <td>2008</td>\n",
       "      <td>63</td>\n",
       "    </tr>\n",
       "    <tr>\n",
       "      <th>429</th>\n",
       "      <td>You Belong With Me</td>\n",
       "      <td>2008</td>\n",
       "      <td>63</td>\n",
       "    </tr>\n",
       "    <tr>\n",
       "      <th>433</th>\n",
       "      <td>The Way I Loved You</td>\n",
       "      <td>2008</td>\n",
       "      <td>59</td>\n",
       "    </tr>\n",
       "    <tr>\n",
       "      <th>390</th>\n",
       "      <td>Enchanted</td>\n",
       "      <td>2010</td>\n",
       "      <td>82</td>\n",
       "    </tr>\n",
       "    <tr>\n",
       "      <th>384</th>\n",
       "      <td>Back To December</td>\n",
       "      <td>2010</td>\n",
       "      <td>75</td>\n",
       "    </tr>\n",
       "    <tr>\n",
       "      <th>391</th>\n",
       "      <td>Better Than Revenge</td>\n",
       "      <td>2010</td>\n",
       "      <td>71</td>\n",
       "    </tr>\n",
       "    <tr>\n",
       "      <th>347</th>\n",
       "      <td>I Knew You Were Trouble.</td>\n",
       "      <td>2012</td>\n",
       "      <td>66</td>\n",
       "    </tr>\n",
       "    <tr>\n",
       "      <th>348</th>\n",
       "      <td>All Too Well</td>\n",
       "      <td>2012</td>\n",
       "      <td>66</td>\n",
       "    </tr>\n",
       "    <tr>\n",
       "      <th>349</th>\n",
       "      <td>22</td>\n",
       "      <td>2012</td>\n",
       "      <td>65</td>\n",
       "    </tr>\n",
       "    <tr>\n",
       "      <th>313</th>\n",
       "      <td>Blank Space</td>\n",
       "      <td>2014</td>\n",
       "      <td>91</td>\n",
       "    </tr>\n",
       "    <tr>\n",
       "      <th>314</th>\n",
       "      <td>Style</td>\n",
       "      <td>2014</td>\n",
       "      <td>91</td>\n",
       "    </tr>\n",
       "    <tr>\n",
       "      <th>317</th>\n",
       "      <td>Shake It Off</td>\n",
       "      <td>2014</td>\n",
       "      <td>87</td>\n",
       "    </tr>\n",
       "    <tr>\n",
       "      <th>254</th>\n",
       "      <td>Don’t Blame Me</td>\n",
       "      <td>2017</td>\n",
       "      <td>91</td>\n",
       "    </tr>\n",
       "    <tr>\n",
       "      <th>259</th>\n",
       "      <td>Getaway Car</td>\n",
       "      <td>2017</td>\n",
       "      <td>88</td>\n",
       "    </tr>\n",
       "    <tr>\n",
       "      <th>255</th>\n",
       "      <td>Delicate</td>\n",
       "      <td>2017</td>\n",
       "      <td>86</td>\n",
       "    </tr>\n",
       "    <tr>\n",
       "      <th>234</th>\n",
       "      <td>Cruel Summer</td>\n",
       "      <td>2019</td>\n",
       "      <td>99</td>\n",
       "    </tr>\n",
       "    <tr>\n",
       "      <th>235</th>\n",
       "      <td>Lover</td>\n",
       "      <td>2019</td>\n",
       "      <td>91</td>\n",
       "    </tr>\n",
       "    <tr>\n",
       "      <th>236</th>\n",
       "      <td>The Man</td>\n",
       "      <td>2019</td>\n",
       "      <td>87</td>\n",
       "    </tr>\n",
       "    <tr>\n",
       "      <th>149</th>\n",
       "      <td>right where you left me - bonus track</td>\n",
       "      <td>2020</td>\n",
       "      <td>81</td>\n",
       "    </tr>\n",
       "    <tr>\n",
       "      <th>135</th>\n",
       "      <td>champagne problems</td>\n",
       "      <td>2020</td>\n",
       "      <td>74</td>\n",
       "    </tr>\n",
       "    <tr>\n",
       "      <th>134</th>\n",
       "      <td>willow</td>\n",
       "      <td>2020</td>\n",
       "      <td>73</td>\n",
       "    </tr>\n",
       "    <tr>\n",
       "      <th>218</th>\n",
       "      <td>cardigan</td>\n",
       "      <td>2020</td>\n",
       "      <td>92</td>\n",
       "    </tr>\n",
       "    <tr>\n",
       "      <th>224</th>\n",
       "      <td>august</td>\n",
       "      <td>2020</td>\n",
       "      <td>90</td>\n",
       "    </tr>\n",
       "    <tr>\n",
       "      <th>217</th>\n",
       "      <td>the 1</td>\n",
       "      <td>2020</td>\n",
       "      <td>82</td>\n",
       "    </tr>\n",
       "    <tr>\n",
       "      <th>113</th>\n",
       "      <td>You Belong With Me (Taylor’s Version)</td>\n",
       "      <td>2021</td>\n",
       "      <td>87</td>\n",
       "    </tr>\n",
       "    <tr>\n",
       "      <th>108</th>\n",
       "      <td>Fearless (Taylor’s Version)</td>\n",
       "      <td>2021</td>\n",
       "      <td>85</td>\n",
       "    </tr>\n",
       "    <tr>\n",
       "      <th>117</th>\n",
       "      <td>The Way I Loved You (Taylor’s Version)</td>\n",
       "      <td>2021</td>\n",
       "      <td>85</td>\n",
       "    </tr>\n",
       "    <tr>\n",
       "      <th>107</th>\n",
       "      <td>All Too Well (10 Minute Version) (Taylor's Ver...</td>\n",
       "      <td>2021</td>\n",
       "      <td>87</td>\n",
       "    </tr>\n",
       "    <tr>\n",
       "      <th>79</th>\n",
       "      <td>Red (Taylor's Version)</td>\n",
       "      <td>2021</td>\n",
       "      <td>82</td>\n",
       "    </tr>\n",
       "    <tr>\n",
       "      <th>85</th>\n",
       "      <td>We Are Never Ever Getting Back Together (Taylo...</td>\n",
       "      <td>2021</td>\n",
       "      <td>82</td>\n",
       "    </tr>\n",
       "    <tr>\n",
       "      <th>67</th>\n",
       "      <td>Anti-Hero</td>\n",
       "      <td>2022</td>\n",
       "      <td>94</td>\n",
       "    </tr>\n",
       "    <tr>\n",
       "      <th>75</th>\n",
       "      <td>Karma</td>\n",
       "      <td>2022</td>\n",
       "      <td>91</td>\n",
       "    </tr>\n",
       "    <tr>\n",
       "      <th>65</th>\n",
       "      <td>Lavender Haze</td>\n",
       "      <td>2022</td>\n",
       "      <td>87</td>\n",
       "    </tr>\n",
       "    <tr>\n",
       "      <th>18</th>\n",
       "      <td>I Can See You (Taylor’s Version) (From The Vault)</td>\n",
       "      <td>2023</td>\n",
       "      <td>93</td>\n",
       "    </tr>\n",
       "    <tr>\n",
       "      <th>2</th>\n",
       "      <td>Back To December (Taylor's Version)</td>\n",
       "      <td>2023</td>\n",
       "      <td>90</td>\n",
       "    </tr>\n",
       "    <tr>\n",
       "      <th>8</th>\n",
       "      <td>Enchanted (Taylor's Version)</td>\n",
       "      <td>2023</td>\n",
       "      <td>90</td>\n",
       "    </tr>\n",
       "  </tbody>\n",
       "</table>\n",
       "</div>"
      ],
      "text/plain": [
       "                                                  name  release_year  \\\n",
       "471                                           Our Song          2006   \n",
       "462                                    Picture To Burn          2006   \n",
       "463        Teardrops On My Guitar - Radio Single Remix          2006   \n",
       "426                                         Love Story          2008   \n",
       "429                                 You Belong With Me          2008   \n",
       "433                                The Way I Loved You          2008   \n",
       "390                                          Enchanted          2010   \n",
       "384                                   Back To December          2010   \n",
       "391                                Better Than Revenge          2010   \n",
       "347                           I Knew You Were Trouble.          2012   \n",
       "348                                       All Too Well          2012   \n",
       "349                                                 22          2012   \n",
       "313                                        Blank Space          2014   \n",
       "314                                              Style          2014   \n",
       "317                                       Shake It Off          2014   \n",
       "254                                     Don’t Blame Me          2017   \n",
       "259                                        Getaway Car          2017   \n",
       "255                                           Delicate          2017   \n",
       "234                                       Cruel Summer          2019   \n",
       "235                                              Lover          2019   \n",
       "236                                            The Man          2019   \n",
       "149              right where you left me - bonus track          2020   \n",
       "135                                 champagne problems          2020   \n",
       "134                                             willow          2020   \n",
       "218                                           cardigan          2020   \n",
       "224                                             august          2020   \n",
       "217                                              the 1          2020   \n",
       "113              You Belong With Me (Taylor’s Version)          2021   \n",
       "108                        Fearless (Taylor’s Version)          2021   \n",
       "117             The Way I Loved You (Taylor’s Version)          2021   \n",
       "107  All Too Well (10 Minute Version) (Taylor's Ver...          2021   \n",
       "79                              Red (Taylor's Version)          2021   \n",
       "85   We Are Never Ever Getting Back Together (Taylo...          2021   \n",
       "67                                           Anti-Hero          2022   \n",
       "75                                               Karma          2022   \n",
       "65                                       Lavender Haze          2022   \n",
       "18   I Can See You (Taylor’s Version) (From The Vault)          2023   \n",
       "2                  Back To December (Taylor's Version)          2023   \n",
       "8                         Enchanted (Taylor's Version)          2023   \n",
       "\n",
       "     popularity  \n",
       "471          71  \n",
       "462          68  \n",
       "463          67  \n",
       "426          63  \n",
       "429          63  \n",
       "433          59  \n",
       "390          82  \n",
       "384          75  \n",
       "391          71  \n",
       "347          66  \n",
       "348          66  \n",
       "349          65  \n",
       "313          91  \n",
       "314          91  \n",
       "317          87  \n",
       "254          91  \n",
       "259          88  \n",
       "255          86  \n",
       "234          99  \n",
       "235          91  \n",
       "236          87  \n",
       "149          81  \n",
       "135          74  \n",
       "134          73  \n",
       "218          92  \n",
       "224          90  \n",
       "217          82  \n",
       "113          87  \n",
       "108          85  \n",
       "117          85  \n",
       "107          87  \n",
       "79           82  \n",
       "85           82  \n",
       "67           94  \n",
       "75           91  \n",
       "65           87  \n",
       "18           93  \n",
       "2            90  \n",
       "8            90  "
      ]
     },
     "execution_count": 19,
     "metadata": {},
     "output_type": "execute_result"
    }
   ],
   "source": [
    "df.sort_values(by=['release_year', 'album', 'popularity'], ascending=[True, True, False]).groupby([\"album\"]).head(3)[[\"name\", 'release_year', \"popularity\"]]"
   ]
  },
  {
   "cell_type": "markdown",
   "metadata": {},
   "source": [
    "## Are more recent songs more popular?\n",
    "\n",
    "- correlation =/= causation, but perhaps recency bias / more popularity now so people access newer songs more?\n"
   ]
  },
  {
   "cell_type": "code",
   "execution_count": 20,
   "metadata": {},
   "outputs": [
    {
     "data": {
      "image/png": "[encoded data removed]",
      "text/plain": [
       "<Figure size 432x288 with 1 Axes>"
      ]
     },
     "metadata": {
      "needs_background": "light"
     },
     "output_type": "display_data"
    }
   ],
   "source": [
    "# scatterplot --> popularity over time --> mess w/ alpha value\n",
    "import matplotlib.pyplot as plt\n",
    "import numpy as np\n",
    "\n",
    "fig, ax = plt.subplots()\n",
    "ax.scatter(df[\"release_year\"], df[\"popularity\"], alpha=0.3)\n",
    "ax.set_xticks([i for i in range(2004, 2025, 3)])\n",
    "ax.set_title(\"Popularity of TS Songs over Time\")\n",
    "ax.set_ylabel(\"Popularity Ranking\")\n",
    "ax.set_xlabel(\"Year Released\")\n",
    "plt.show()"
   ]
  },
  {
   "cell_type": "code",
   "execution_count": 21,
   "metadata": {},
   "outputs": [
    {
     "data": {
      "image/png": "[encoded data removed]",
      "text/plain": [
       "<Figure size 432x288 with 1 Axes>"
      ]
     },
     "metadata": {
      "needs_background": "light"
     },
     "output_type": "display_data"
    }
   ],
   "source": [
    "# histogram: popularity bins count in general\n",
    "plt.hist(df[\"popularity\"], bins=5)\n",
    "plt.title(\"Number of songs per Popularity Bin\")\n",
    "plt.ylabel(\"Count of songs\")\n",
    "plt.xlabel(\"Popularity Ranking\")\n",
    "plt.show()"
   ]
  },
  {
   "cell_type": "code",
   "execution_count": 22,
   "metadata": {},
   "outputs": [
    {
     "data": {
      "image/png": "[encoded data removed]",
      "text/plain": [
       "<Figure size 432x288 with 1 Axes>"
      ]
     },
     "metadata": {
      "needs_background": "light"
     },
     "output_type": "display_data"
    }
   ],
   "source": [
    "# average rating over time --> recency bias?\n",
    "\n",
    "years = df[\"release_year\"].unique()\n",
    "avg_ratings = []\n",
    "median_ratings = []\n",
    "for year in years:\n",
    "    avg_ratings.append(df.loc[df[\"release_year\"] == year, \"popularity\"].mean())\n",
    "    median_ratings.append(df.loc[df[\"release_year\"] == year, \"popularity\"].median())\n",
    "\n",
    "# finding m, b of line of best fit\n",
    "m_mean, b_mean = np.polyfit(years, avg_ratings, deg=1)\n",
    "m_median, b_median = np.polyfit(years, median_ratings, deg=1)\n",
    "# x sequence to predict on\n",
    "xseq = np.linspace(2004, 2025, num=21)\n",
    "\n",
    "fig, ax = plt.subplots()\n",
    "\n",
    "ax.scatter(years, avg_ratings, c=\"#003C96\", alpha=0.7, label=\"mean ranking\")\n",
    "ax.scatter(years, median_ratings, c=\"#11A69C\", alpha=0.7, label=\"median ranking\")\n",
    "\n",
    "# no signifcant difference between mean, median ratings, so only mean rating best fit plotted\n",
    "ax.plot(xseq, b_mean + m_mean * xseq, color=\"#003C96\", lw=2.5)\n",
    "\n",
    "ax.set_xticks([i for i in range(2004, 2025, 3)])\n",
    "ax.set_title(\"Year vs Avg Popularity of Song in TS Album, September 2023\")\n",
    "ax.set_xlabel(\"Year\")\n",
    "ax.set_ylabel(\"Average Popularity Rating\")\n",
    "ax.legend()\n",
    "\n",
    "plt.show()"
   ]
  },
  {
   "cell_type": "code",
   "execution_count": 23,
   "metadata": {},
   "outputs": [
    {
     "name": "stdout",
     "output_type": "stream",
     "text": [
      "Correlation Coefficient:  0.8\n"
     ]
    }
   ],
   "source": [
    "print(\"Correlation Coefficient: \", round(np.corrcoef(avg_ratings, years)[0][1], 2))"
   ]
  },
  {
   "cell_type": "markdown",
   "metadata": {},
   "source": [
    "## Can popularity be predicted?\n",
    "\n",
    "### Basic outline of models to be optimized\n",
    "\n",
    "- multi-variable regression\n",
    "  - regular\n",
    "  - lasso (L1 regularization, added a factor of the absolute sum of coefficients)\n",
    "    - shrinks unimportant coefficients to 0\n",
    "  - ridge (L2 regularization, adds a factor of sum of squares of coefficients)\n",
    "    - shrinks unimportant coefficients to almost, but not quite 0\n",
    "  - elastic net: combines both\n",
    "- regression tree\n",
    "  - random forest\n",
    "    - combine to get average\n",
    "  - gradient boosted\n",
    "    - build bunch of new learners to train on mistakes of previous\n",
    "    - sensitive to outliers!\n",
    "- suppor vector regression\n",
    "  - likely that data is sparse (not great for SVR), but lots of features\n"
   ]
  },
  {
   "cell_type": "code",
   "execution_count": 24,
   "metadata": {},
   "outputs": [],
   "source": [
    "from sklearn.model_selection import train_test_split\n",
    "from sklearn.utils import shuffle\n",
    "\n",
    "X = df[['acousticness',\n",
    "       'danceability', 'energy', 'instrumentalness', 'liveness', 'loudness',\n",
    "       'speechiness', 'tempo', 'valence', 'duration_ms']]\n",
    "y = df[\"popularity\"]\n",
    "\n",
    "X, y = shuffle(X, y, random_state=42) # v important\n",
    "\n",
    "X_train, X_test, y_train, y_test = train_test_split(X, y, test_size=0.2, random_state=42)"
   ]
  },
  {
   "cell_type": "code",
   "execution_count": 25,
   "metadata": {},
   "outputs": [
    {
     "data": {
      "text/plain": [
       "206.131212041867"
      ]
     },
     "execution_count": 25,
     "metadata": {},
     "output_type": "execute_result"
    }
   ],
   "source": [
    "from sklearn.linear_model import LinearRegression\n",
    "from sklearn.metrics import mean_squared_error\n",
    "\n",
    "lin_reg = LinearRegression()\n",
    "lin_reg.fit(X_train, y_train)\n",
    "\n",
    "lin_reg_preds = lin_reg.predict(X_test)\n",
    "lin_mse = mean_squared_error(y_test, lin_reg_preds)\n",
    "lin_mse # pretty high... perhaps not a complex enough model for this"
   ]
  },
  {
   "cell_type": "code",
   "execution_count": 26,
   "metadata": {},
   "outputs": [
    {
     "data": {
      "text/plain": [
       "216.99744161954365"
      ]
     },
     "execution_count": 26,
     "metadata": {},
     "output_type": "execute_result"
    }
   ],
   "source": [
    "from sklearn.linear_model import ElasticNet\n",
    "\n",
    "elastic_net = ElasticNet(random_state=42)\n",
    "# alpha = regularization strength (higher = stronger regularization)\n",
    "# l1_ratio: ratio of L1 to L2 penalties (0.5 = equal mix)\n",
    "elastic_net.fit(X_train, y_train)\n",
    "\n",
    "elastic_net_preds = elastic_net.predict(X_test)\n",
    "elastic_mse = mean_squared_error(y_test, elastic_net_preds)\n",
    "elastic_mse # suprisingly worse than linear regression... "
   ]
  },
  {
   "cell_type": "code",
   "execution_count": 27,
   "metadata": {},
   "outputs": [
    {
     "data": {
      "text/plain": [
       "339.27536231884056"
      ]
     },
     "execution_count": 27,
     "metadata": {},
     "output_type": "execute_result"
    }
   ],
   "source": [
    "from sklearn.tree import DecisionTreeRegressor\n",
    "\n",
    "tree_reg = DecisionTreeRegressor(random_state=42)\n",
    "tree_reg.fit(X_train, y_train)\n",
    "\n",
    "tree_reg_preds = tree_reg.predict(X_test)\n",
    "tree_reg_mse = mean_squared_error(y_test, tree_reg_preds)\n",
    "tree_reg_mse # most likely overfitting... needs to use cross validation"
   ]
  },
  {
   "cell_type": "code",
   "execution_count": 28,
   "metadata": {},
   "outputs": [
    {
     "data": {
      "text/plain": [
       "156.61461449275356"
      ]
     },
     "execution_count": 28,
     "metadata": {},
     "output_type": "execute_result"
    }
   ],
   "source": [
    "from sklearn.ensemble import RandomForestRegressor\n",
    "\n",
    "forest_reg = RandomForestRegressor(random_state=42)\n",
    "forest_reg.fit(X_train, y_train)\n",
    "\n",
    "forest_reg_preds = forest_reg.predict(X_test)\n",
    "forest_reg_mse = mean_squared_error(y_test, forest_reg_preds)\n",
    "forest_reg_mse # most accurate "
   ]
  },
  {
   "cell_type": "code",
   "execution_count": 29,
   "metadata": {},
   "outputs": [
    {
     "data": {
      "text/plain": [
       "162.82332657163394"
      ]
     },
     "execution_count": 29,
     "metadata": {},
     "output_type": "execute_result"
    }
   ],
   "source": [
    "from sklearn.ensemble import GradientBoostingRegressor\n",
    "\n",
    "boosting_reg = GradientBoostingRegressor(random_state=42)\n",
    "boosting_reg.fit(X_train, y_train)\n",
    "\n",
    "boosting_preds = boosting_reg.predict(X_test)\n",
    "boosting_mse = mean_squared_error(y_test, boosting_preds)\n",
    "boosting_mse # most likely outliers affecting it..."
   ]
  },
  {
   "cell_type": "code",
   "execution_count": 30,
   "metadata": {},
   "outputs": [
    {
     "data": {
      "text/plain": [
       "210.171283937337"
      ]
     },
     "execution_count": 30,
     "metadata": {},
     "output_type": "execute_result"
    }
   ],
   "source": [
    "from sklearn.svm import SVR\n",
    "\n",
    "svr = SVR()\n",
    "svr.fit(X_train, y_train)\n",
    "\n",
    "svr_preds = svr.predict(X_test)\n",
    "svr_mse = mean_squared_error(y_test, svr_preds)\n",
    "svr_mse"
   ]
  },
  {
   "cell_type": "markdown",
   "metadata": {},
   "source": [
    "### Problems to consider and Solutions:\n",
    "\n",
    "| Problem                    | Solution                                                                                                                             |\n",
    "| -------------------------- | ------------------------------------------------------------------------------------------------------------------------------------ |\n",
    "| Random vs stratified split | <ul> <li>Random - more representative of real world</li> <li>Don't want recency bias being the leading predictive feature</li> </ul> |\n",
    "| Overfitting / underfitting | Avoid too complicated models, use regularization parameters                                                                          |\n",
    "| How to optimize paramters  | Grid Search: auto-validation and optimization                                                                                        |\n",
    "| Very little samples        | Opt toward simpler models                                                                                                            |\n"
   ]
  },
  {
   "cell_type": "code",
   "execution_count": 31,
   "metadata": {},
   "outputs": [],
   "source": [
    "from sklearn.model_selection import GridSearchCV\n",
    "\n",
    "def grid_search(model, param_grid):\n",
    "    grid_search = GridSearchCV(model, param_grid, cv=5, \n",
    "                           scoring=\"neg_mean_absolute_error\", \n",
    "                           return_train_score=True,\n",
    "                           n_jobs=-1,\n",
    "                        )\n",
    "\n",
    "    grid_search.fit(X_train, y_train)\n",
    "\n",
    "    return grid_search"
   ]
  },
  {
   "cell_type": "code",
   "execution_count": 32,
   "metadata": {},
   "outputs": [
    {
     "data": {
      "text/plain": [
       "({'max_features': None,\n",
       "  'min_impurity_decrease': 0.0,\n",
       "  'min_samples_leaf': 1,\n",
       "  'min_samples_split': 60},\n",
       " -10.926429387671835)"
      ]
     },
     "execution_count": 32,
     "metadata": {},
     "output_type": "execute_result"
    }
   ],
   "source": [
    "# finding the ideal optimization for decision tree\n",
    "tree_param_grid = [\n",
    "    {'min_samples_split': [2, 30, 35, 40, 50, 60], 'max_features': [None, \"auto\"], 'min_impurity_decrease': [0.0, 0.25, 0.5], \"min_samples_leaf\": [1, 5, 11, 12, 15]}\n",
    "]\n",
    "\n",
    "tree_reg = DecisionTreeRegressor(random_state=42)\n",
    "\n",
    "tree_GD = grid_search(tree_reg, tree_param_grid)\n",
    "\n",
    "tree_GD.best_params_, tree_GD.best_score_"
   ]
  },
  {
   "cell_type": "code",
   "execution_count": 33,
   "metadata": {},
   "outputs": [
    {
     "data": {
      "text/plain": [
       "({'min_samples_leaf': 20, 'min_samples_split': 2, 'n_estimators': 40},\n",
       " -10.019912323502915)"
      ]
     },
     "execution_count": 33,
     "metadata": {},
     "output_type": "execute_result"
    }
   ],
   "source": [
    "forest_param_grid = [\n",
    "    {'min_samples_split': [2, 10, 20, 30, 35], 'min_samples_leaf': [10, 12, 15, 20], \"n_estimators\": [i for i in range(10, 100, 15)]},\n",
    "]\n",
    "\n",
    "forest_reg = RandomForestRegressor(random_state=42)\n",
    "\n",
    "forest_GD = grid_search(forest_reg, forest_param_grid)\n",
    "\n",
    "forest_GD.best_params_, forest_GD.best_score_"
   ]
  },
  {
   "cell_type": "code",
   "execution_count": 34,
   "metadata": {},
   "outputs": [
    {
     "data": {
      "text/plain": [
       "({'learning_rate': 0.1,\n",
       "  'min_samples_leaf': 2,\n",
       "  'min_samples_split': 30,\n",
       "  'n_estimators': 55},\n",
       " -9.656890634939218)"
      ]
     },
     "execution_count": 34,
     "metadata": {},
     "output_type": "execute_result"
    }
   ],
   "source": [
    "boosting_params = [\n",
    "    {'min_samples_split': [2, 5, 10, 20, 30], 'min_samples_leaf': [2, 5, 10, 15, 30], \"learning_rate\": [0.01, 0.05, 0.1, 0.5, 1], \"n_estimators\": [i for i in range(10, 100, 15)]}\n",
    "]\n",
    "\n",
    "boosting_reg = GradientBoostingRegressor(random_state=42, tol=0.1, n_iter_no_change=10)\n",
    "\n",
    "boosting_GD = grid_search(boosting_reg, boosting_params)\n",
    "\n",
    "boosting_GD.best_params_, boosting_GD.best_score_"
   ]
  },
  {
   "cell_type": "code",
   "execution_count": 54,
   "metadata": {},
   "outputs": [
    {
     "data": {
      "text/plain": [
       "({'alpha': 1, 'l1_ratio': 0.75, 'max_iter': 1000, 'tol': 0.2},\n",
       " -10.76886054198631)"
      ]
     },
     "execution_count": 54,
     "metadata": {},
     "output_type": "execute_result"
    }
   ],
   "source": [
    "import sys\n",
    "import os\n",
    "import warnings\n",
    "from sklearn.exceptions import ConvergenceWarning\n",
    "\n",
    "warnings.filterwarnings(\"ignore\") # need this line of code or the filterwarnings later on doesn't work...\n",
    "\n",
    "with warnings.catch_warnings():\n",
    "    warnings.filterwarnings(\"ignore\", category=ConvergenceWarning)\n",
    "    sys.stderr = open(os.devnull, \"w\")  # Redirect stderr to null\n",
    "\n",
    "    elastic_params = [\n",
    "        {'alpha': [0, 0.25, 0.5, 0.75, 1], 'l1_ratio': [0.25, 0.5, 0.75], \"max_iter\": [1000, 1500, 2000], 'tol':[0, 0.0001, 0.001, 0.01, 0.1, 0.2]}\n",
    "    ]\n",
    "\n",
    "    elastic_reg = ElasticNet(random_state=42)\n",
    "\n",
    "    elastic_GD = grid_search(elastic_reg, elastic_params)\n",
    "\n",
    "    sys.stderr = sys.__stderr__ # restore stderr\n",
    "elastic_GD.best_params_, elastic_GD.best_score_\n"
   ]
  },
  {
   "cell_type": "code",
   "execution_count": 36,
   "metadata": {},
   "outputs": [
    {
     "name": "stderr",
     "output_type": "stream",
     "text": [
      "/usr/local/lib/python3.8/site-packages/sklearn/linear_model/_coordinate_descent.py:529: ConvergenceWarning: Objective did not converge. You might want to increase the number of iterations. Duality gap: 2.3792381398379803e-09, tolerance: 0.0\n",
      "  model = cd_fast.enet_coordinate_descent(\n",
      "/usr/local/lib/python3.8/site-packages/sklearn/linear_model/_coordinate_descent.py:529: ConvergenceWarning: Objective did not converge. You might want to increase the number of iterations. Duality gap: 2.3792381398379803e-09, tolerance: 0.0\n",
      "  model = cd_fast.enet_coordinate_descent(\n"
     ]
    },
    {
     "data": {
      "text/plain": [
       "({'C': 0.5, 'degree': 5, 'kernel': 'poly'}, -10.210100585078468)"
      ]
     },
     "execution_count": 36,
     "metadata": {},
     "output_type": "execute_result"
    }
   ],
   "source": [
    "svr_params = [\n",
    "    {\"kernel\": [\"rbf\", \"poly\", \"linear\"], \"degree\": [1, 2, 3, 4, 5], \"C\":[0.1, 0.5, 1]}\n",
    "] \n",
    "\n",
    "svr = SVR()\n",
    "\n",
    "svr_GD = grid_search(svr, svr_params)\n",
    "\n",
    "svr_GD.best_params_, svr_GD.best_score_"
   ]
  },
  {
   "cell_type": "markdown",
   "metadata": {},
   "source": [
    "### Gradient Boosting performed the best\n",
    "\n",
    "- Let's predict using it!\n"
   ]
  },
  {
   "cell_type": "code",
   "execution_count": 37,
   "metadata": {},
   "outputs": [
    {
     "data": {
      "text/plain": [
       "171.77118581429113"
      ]
     },
     "execution_count": 37,
     "metadata": {},
     "output_type": "execute_result"
    }
   ],
   "source": [
    "boosting_reg = GradientBoostingRegressor(random_state=42, min_samples_leaf=2, min_samples_split=30, n_estimators=55, learning_rate=0.1)\n",
    "\n",
    "boosting_reg.fit(X_train, y_train)\n",
    "\n",
    "boosting_preds = boosting_reg.predict(X_test)\n",
    "mean_squared_error(y_test, boosting_preds)"
   ]
  },
  {
   "cell_type": "markdown",
   "metadata": {},
   "source": [
    "### Possible reasons gradient boosting appears to be less accurate on testing set than general models\n",
    "\n",
    "| Reason       | Explanation                                                                                                                                                                                                                                                                     |\n",
    "| ------------ | ------------------------------------------------------------------------------------------------------------------------------------------------------------------------------------------------------------------------------------------------------------------------------- |\n",
    "| Limited data | With roughly 300 samples (and only 240 to train on), their is random variation between training, validation, and testing data may cause poor generalization <ul><li>Like if test data held songs mostly from more recent years...</li><li>most likely largest culprit</li></ul> |\n",
    "| Overfitting  | Possibility, but use of cross-validation and regularization parameters should've curbed it to a large extent                                                                                                                                                                    |\n"
   ]
  },
  {
   "cell_type": "markdown",
   "metadata": {},
   "source": [
    "## Predictions and Conclusions\n"
   ]
  },
  {
   "cell_type": "markdown",
   "metadata": {},
   "source": [
    "### What features were deemed the most important?\n"
   ]
  },
  {
   "cell_type": "code",
   "execution_count": 38,
   "metadata": {},
   "outputs": [
    {
     "data": {
      "text/html": [
       "<div>\n",
       "<style scoped>\n",
       "    .dataframe tbody tr th:only-of-type {\n",
       "        vertical-align: middle;\n",
       "    }\n",
       "\n",
       "    .dataframe tbody tr th {\n",
       "        vertical-align: top;\n",
       "    }\n",
       "\n",
       "    .dataframe thead th {\n",
       "        text-align: right;\n",
       "    }\n",
       "</style>\n",
       "<table border=\"1\" class=\"dataframe\">\n",
       "  <thead>\n",
       "    <tr style=\"text-align: right;\">\n",
       "      <th></th>\n",
       "      <th>Feature</th>\n",
       "      <th>Importance (based on gini impurity)</th>\n",
       "    </tr>\n",
       "  </thead>\n",
       "  <tbody>\n",
       "    <tr>\n",
       "      <th>5</th>\n",
       "      <td>loudness</td>\n",
       "      <td>0.372</td>\n",
       "    </tr>\n",
       "    <tr>\n",
       "      <th>6</th>\n",
       "      <td>speechiness</td>\n",
       "      <td>0.318</td>\n",
       "    </tr>\n",
       "    <tr>\n",
       "      <th>4</th>\n",
       "      <td>liveness</td>\n",
       "      <td>0.081</td>\n",
       "    </tr>\n",
       "    <tr>\n",
       "      <th>2</th>\n",
       "      <td>energy</td>\n",
       "      <td>0.063</td>\n",
       "    </tr>\n",
       "    <tr>\n",
       "      <th>0</th>\n",
       "      <td>acousticness</td>\n",
       "      <td>0.047</td>\n",
       "    </tr>\n",
       "    <tr>\n",
       "      <th>1</th>\n",
       "      <td>danceability</td>\n",
       "      <td>0.039</td>\n",
       "    </tr>\n",
       "    <tr>\n",
       "      <th>9</th>\n",
       "      <td>duration_ms</td>\n",
       "      <td>0.032</td>\n",
       "    </tr>\n",
       "    <tr>\n",
       "      <th>8</th>\n",
       "      <td>valence</td>\n",
       "      <td>0.020</td>\n",
       "    </tr>\n",
       "    <tr>\n",
       "      <th>7</th>\n",
       "      <td>tempo</td>\n",
       "      <td>0.016</td>\n",
       "    </tr>\n",
       "    <tr>\n",
       "      <th>3</th>\n",
       "      <td>instrumentalness</td>\n",
       "      <td>0.011</td>\n",
       "    </tr>\n",
       "  </tbody>\n",
       "</table>\n",
       "</div>"
      ],
      "text/plain": [
       "            Feature  Importance (based on gini impurity)\n",
       "5          loudness                                0.372\n",
       "6       speechiness                                0.318\n",
       "4          liveness                                0.081\n",
       "2            energy                                0.063\n",
       "0      acousticness                                0.047\n",
       "1      danceability                                0.039\n",
       "9       duration_ms                                0.032\n",
       "8           valence                                0.020\n",
       "7             tempo                                0.016\n",
       "3  instrumentalness                                0.011"
      ]
     },
     "execution_count": 38,
     "metadata": {},
     "output_type": "execute_result"
    }
   ],
   "source": [
    "feature_importances_df = pd.DataFrame({\"Feature\": X_train.columns, \"Importance (based on gini impurity)\": [round(i, 3) for i in boosting_reg.feature_importances_]})\n",
    "sorted_importances = feature_importances_df.sort_values(by='Importance (based on gini impurity)', ascending=False)\n",
    "\n",
    "sorted_importances # didn't expect speechiness to be up there"
   ]
  },
  {
   "cell_type": "markdown",
   "metadata": {},
   "source": [
    "### The MSE is a good numeric measure... but it's hard to visualize.\n",
    "\n",
    "- How do the predictions compare on data from different songs?\n"
   ]
  },
  {
   "cell_type": "code",
   "execution_count": 39,
   "metadata": {},
   "outputs": [
    {
     "data": {
      "text/html": [
       "<div>\n",
       "<style scoped>\n",
       "    .dataframe tbody tr th:only-of-type {\n",
       "        vertical-align: middle;\n",
       "    }\n",
       "\n",
       "    .dataframe tbody tr th {\n",
       "        vertical-align: top;\n",
       "    }\n",
       "\n",
       "    .dataframe thead th {\n",
       "        text-align: right;\n",
       "    }\n",
       "</style>\n",
       "<table border=\"1\" class=\"dataframe\">\n",
       "  <thead>\n",
       "    <tr style=\"text-align: right;\">\n",
       "      <th></th>\n",
       "      <th>Song</th>\n",
       "      <th>Popularity predictions</th>\n",
       "      <th>Popularity Actual</th>\n",
       "      <th>Difference (pred - true)</th>\n",
       "    </tr>\n",
       "  </thead>\n",
       "  <tbody>\n",
       "    <tr>\n",
       "      <th>313</th>\n",
       "      <td>Blank Space</td>\n",
       "      <td>75.254244</td>\n",
       "      <td>91</td>\n",
       "      <td>-15.745756</td>\n",
       "    </tr>\n",
       "    <tr>\n",
       "      <th>234</th>\n",
       "      <td>Cruel Summer</td>\n",
       "      <td>74.022528</td>\n",
       "      <td>99</td>\n",
       "      <td>-24.977472</td>\n",
       "    </tr>\n",
       "    <tr>\n",
       "      <th>85</th>\n",
       "      <td>Anti-Hero</td>\n",
       "      <td>77.477019</td>\n",
       "      <td>82</td>\n",
       "      <td>-4.522981</td>\n",
       "    </tr>\n",
       "    <tr>\n",
       "      <th>67</th>\n",
       "      <td>We Are Never Ever Getting Back Together (Taylo...</td>\n",
       "      <td>76.999561</td>\n",
       "      <td>94</td>\n",
       "      <td>-17.000439</td>\n",
       "    </tr>\n",
       "  </tbody>\n",
       "</table>\n",
       "</div>"
      ],
      "text/plain": [
       "                                                  Song  \\\n",
       "313                                        Blank Space   \n",
       "234                                       Cruel Summer   \n",
       "85                                           Anti-Hero   \n",
       "67   We Are Never Ever Getting Back Together (Taylo...   \n",
       "\n",
       "     Popularity predictions  Popularity Actual  Difference (pred - true)  \n",
       "313               75.254244                 91                -15.745756  \n",
       "234               74.022528                 99                -24.977472  \n",
       "85                77.477019                 82                 -4.522981  \n",
       "67                76.999561                 94                -17.000439  "
      ]
     },
     "execution_count": 39,
     "metadata": {},
     "output_type": "execute_result"
    }
   ],
   "source": [
    "songs_for_predictions = [\"Blank Space\", \"Cruel Summer\", \"Anti-Hero\", \"We Are Never Ever Getting Back Together (Taylor's Version)\"]\n",
    "data_rows = df.loc[df['name'].isin(songs_for_predictions)]\n",
    "data_rows = data_rows.sort_values(\"release_date\").drop_duplicates(\"name\", keep=\"first\")\n",
    "x_features = data_rows[['acousticness',\n",
    "       'danceability', 'energy', 'instrumentalness', 'liveness', 'loudness',\n",
    "       'speechiness', 'tempo', 'valence', 'duration_ms']]\n",
    "y_actual = data_rows[\"popularity\"]\n",
    "y_pred = boosting_reg.predict(x_features)\n",
    "difference = y_pred - y_actual\n",
    "\n",
    "results = pd.DataFrame({\"Song\": songs_for_predictions, \"Popularity predictions\": y_pred, \"Popularity Actual\": y_actual, \"Difference (pred - true)\": difference})\n",
    "\n",
    "results"
   ]
  },
  {
   "cell_type": "markdown",
   "metadata": {},
   "source": [
    "### Curious Qs\n",
    "\n",
    "- Just stuff I'm wondering\n"
   ]
  },
  {
   "cell_type": "markdown",
   "metadata": {},
   "source": [
    "#### CQ1\n",
    "\n",
    "- What songs were predicted to be the most and least popular? What were their actual rankings?\n",
    "  - Need new predictions since previous were only on X_test\n"
   ]
  },
  {
   "cell_type": "code",
   "execution_count": 40,
   "metadata": {},
   "outputs": [],
   "source": [
    "X_all = pd.concat([X_test, X_train])\n",
    "features = ['acousticness',\n",
    "       'danceability', 'energy', 'instrumentalness', 'liveness', 'loudness',\n",
    "       'speechiness', 'tempo', 'valence', 'duration_ms']\n",
    "\n",
    "corr_rows = X_all.merge(df, how='inner', on=features, sort=False)\n",
    "song_names = corr_rows[\"name\"]\n",
    "all_song_popularities = corr_rows[\"popularity\"]\n",
    "\n",
    "boosting_reg_all = GradientBoostingRegressor(random_state=42, min_samples_leaf=2, min_samples_split=30, n_estimators=55, learning_rate=0.1)\n",
    "boosting_reg_all.fit(X_train, y_train)\n",
    "all_preds = boosting_reg_all.predict(X_all)\n",
    "\n",
    "# actual_results = corr_rows[\"popularity\"]\n",
    "zipped_list = zip(all_preds, song_names, all_song_popularities)\n",
    "most_popular = sorted(zipped_list, reverse=True, key=lambda x: x[0])[:5]\n",
    "zipped_list = zip(all_preds, song_names, all_song_popularities)\n",
    "least_popular = sorted(zipped_list, reverse=False, key=lambda x: x[0])[:5]"
   ]
  },
  {
   "cell_type": "code",
   "execution_count": 41,
   "metadata": {},
   "outputs": [
    {
     "data": {
      "text/html": [
       "<div>\n",
       "<style scoped>\n",
       "    .dataframe tbody tr th:only-of-type {\n",
       "        vertical-align: middle;\n",
       "    }\n",
       "\n",
       "    .dataframe tbody tr th {\n",
       "        vertical-align: top;\n",
       "    }\n",
       "\n",
       "    .dataframe thead th {\n",
       "        text-align: right;\n",
       "    }\n",
       "</style>\n",
       "<table border=\"1\" class=\"dataframe\">\n",
       "  <thead>\n",
       "    <tr style=\"text-align: right;\">\n",
       "      <th></th>\n",
       "      <th>Song</th>\n",
       "      <th>Predicted Popularity</th>\n",
       "      <th>Actual Popularity</th>\n",
       "    </tr>\n",
       "  </thead>\n",
       "  <tbody>\n",
       "    <tr>\n",
       "      <th>0</th>\n",
       "      <td>The Story Of Us (Taylor's Version)</td>\n",
       "      <td>87.47</td>\n",
       "      <td>86</td>\n",
       "    </tr>\n",
       "    <tr>\n",
       "      <th>1</th>\n",
       "      <td>Haunted</td>\n",
       "      <td>84.49</td>\n",
       "      <td>65</td>\n",
       "    </tr>\n",
       "    <tr>\n",
       "      <th>2</th>\n",
       "      <td>Haunted (Taylor's Version)</td>\n",
       "      <td>83.08</td>\n",
       "      <td>85</td>\n",
       "    </tr>\n",
       "    <tr>\n",
       "      <th>3</th>\n",
       "      <td>Long Live (Taylor's Version)</td>\n",
       "      <td>81.04</td>\n",
       "      <td>86</td>\n",
       "    </tr>\n",
       "    <tr>\n",
       "      <th>4</th>\n",
       "      <td>The Archer</td>\n",
       "      <td>80.38</td>\n",
       "      <td>83</td>\n",
       "    </tr>\n",
       "  </tbody>\n",
       "</table>\n",
       "</div>"
      ],
      "text/plain": [
       "                                 Song  Predicted Popularity  Actual Popularity\n",
       "0  The Story Of Us (Taylor's Version)                 87.47                 86\n",
       "1                             Haunted                 84.49                 65\n",
       "2          Haunted (Taylor's Version)                 83.08                 85\n",
       "3        Long Live (Taylor's Version)                 81.04                 86\n",
       "4                          The Archer                 80.38                 83"
      ]
     },
     "execution_count": 41,
     "metadata": {},
     "output_type": "execute_result"
    }
   ],
   "source": [
    "pd.DataFrame({\"Song\": [row[1] for row in most_popular], \"Predicted Popularity\": [round(row[0], 2) for row in most_popular], \"Actual Popularity\": [row[2] for row in most_popular]}) # interesting that none of these are singles"
   ]
  },
  {
   "cell_type": "code",
   "execution_count": 42,
   "metadata": {},
   "outputs": [
    {
     "data": {
      "text/html": [
       "<div>\n",
       "<style scoped>\n",
       "    .dataframe tbody tr th:only-of-type {\n",
       "        vertical-align: middle;\n",
       "    }\n",
       "\n",
       "    .dataframe tbody tr th {\n",
       "        vertical-align: top;\n",
       "    }\n",
       "\n",
       "    .dataframe thead th {\n",
       "        text-align: right;\n",
       "    }\n",
       "</style>\n",
       "<table border=\"1\" class=\"dataframe\">\n",
       "  <thead>\n",
       "    <tr style=\"text-align: right;\">\n",
       "      <th></th>\n",
       "      <th>Song</th>\n",
       "      <th>Predicted Popularity</th>\n",
       "      <th>Actual Popularity</th>\n",
       "    </tr>\n",
       "  </thead>\n",
       "  <tbody>\n",
       "    <tr>\n",
       "      <th>0</th>\n",
       "      <td>I Know Places - Voice Memo</td>\n",
       "      <td>6.79</td>\n",
       "      <td>0</td>\n",
       "    </tr>\n",
       "    <tr>\n",
       "      <th>1</th>\n",
       "      <td>I Wish You Would - Voice Memo</td>\n",
       "      <td>7.95</td>\n",
       "      <td>0</td>\n",
       "    </tr>\n",
       "    <tr>\n",
       "      <th>2</th>\n",
       "      <td>Tell Me Why</td>\n",
       "      <td>49.21</td>\n",
       "      <td>36</td>\n",
       "    </tr>\n",
       "    <tr>\n",
       "      <th>3</th>\n",
       "      <td>You're Not Sorry</td>\n",
       "      <td>49.25</td>\n",
       "      <td>37</td>\n",
       "    </tr>\n",
       "    <tr>\n",
       "      <th>4</th>\n",
       "      <td>State Of Grace - Acoustic</td>\n",
       "      <td>49.35</td>\n",
       "      <td>46</td>\n",
       "    </tr>\n",
       "  </tbody>\n",
       "</table>\n",
       "</div>"
      ],
      "text/plain": [
       "                            Song  Predicted Popularity  Actual Popularity\n",
       "0     I Know Places - Voice Memo                  6.79                  0\n",
       "1  I Wish You Would - Voice Memo                  7.95                  0\n",
       "2                    Tell Me Why                 49.21                 36\n",
       "3               You're Not Sorry                 49.25                 37\n",
       "4      State Of Grace - Acoustic                 49.35                 46"
      ]
     },
     "execution_count": 42,
     "metadata": {},
     "output_type": "execute_result"
    }
   ],
   "source": [
    "pd.DataFrame({\"Song\": [row[1] for row in least_popular], \"Predicted Popularity\": [round(row[0], 2) for row in least_popular], \"Actual Popularity\": [row[2] for row in least_popular]}) "
   ]
  },
  {
   "cell_type": "markdown",
   "metadata": {},
   "source": [
    "#### CQ2\n",
    "\n",
    "- What is the range on the predictions?\n",
    "  - I have hunch the model is predicting near the average popularity score every time...\n"
   ]
  },
  {
   "cell_type": "code",
   "execution_count": 43,
   "metadata": {},
   "outputs": [
    {
     "data": {
      "text/plain": [
       "(6.787449375861056, 87.47193569811401)"
      ]
     },
     "execution_count": 43,
     "metadata": {},
     "output_type": "execute_result"
    }
   ],
   "source": [
    "min(all_preds), max(all_preds)"
   ]
  },
  {
   "cell_type": "code",
   "execution_count": 44,
   "metadata": {},
   "outputs": [
    {
     "data": {
      "text/plain": [
       "(69.42608695652174, 71.0)"
      ]
     },
     "execution_count": 44,
     "metadata": {},
     "output_type": "execute_result"
    }
   ],
   "source": [
    "all_song_popularities.mean(), np.median(all_song_popularities)"
   ]
  },
  {
   "cell_type": "code",
   "execution_count": 45,
   "metadata": {},
   "outputs": [
    {
     "data": {
      "text/plain": [
       "(69.15908990509351, 70.35432881765009)"
      ]
     },
     "execution_count": 45,
     "metadata": {},
     "output_type": "execute_result"
    }
   ],
   "source": [
    "all_preds.mean(), np.median(all_preds) # v likely that it's literally doing predicting around the mean it seems..."
   ]
  },
  {
   "cell_type": "code",
   "execution_count": 46,
   "metadata": {},
   "outputs": [
    {
     "data": {
      "image/png": "[encoded data removed]",
      "text/plain": [
       "<Figure size 432x288 with 1 Axes>"
      ]
     },
     "metadata": {
      "needs_background": "light"
     },
     "output_type": "display_data"
    }
   ],
   "source": [
    "plt.hist(all_preds, alpha=0.7, bins=[0, 20, 40, 60, 80, 100], label=\"Preds\")\n",
    "plt.hist(all_song_popularities, alpha=0.5, bins=[0, 20, 40, 60, 80, 100], label=\"Actual\")\n",
    "plt.legend(loc=\"upper right\")\n",
    "plt.title(\"Spread of actual song popularities vs predicted song popularities\")\n",
    "plt.xlabel(\"Popularity\")\n",
    "plt.ylabel(\"Count\")\n",
    "plt.show()\n",
    "# does, indeed, appear to be moslty predicting in that 60-80 range... (aka around the mean/median)"
   ]
  },
  {
   "cell_type": "markdown",
   "metadata": {},
   "source": [
    "#### CQ3\n",
    "\n",
    "- What would the error be if we just predicted mean every time?\n"
   ]
  },
  {
   "cell_type": "code",
   "execution_count": 47,
   "metadata": {},
   "outputs": [
    {
     "name": "stdout",
     "output_type": "stream",
     "text": [
      "Model predictions MSE:  95.20258752550359\n",
      "Only predicting the mean MSE:  200.8590449275362\n",
      "Difference:  105.6564574020326\n"
     ]
    }
   ],
   "source": [
    "mse_preds = mean_squared_error(all_preds,all_song_popularities)\n",
    "mse_only_mean_preds = mean_squared_error([69.43 for i in range(0, len(all_preds))], all_song_popularities)\n",
    "\n",
    "print(\"Model predictions MSE: \", mse_preds)\n",
    "print(\"Only predicting the mean MSE: \", mse_only_mean_preds)\n",
    "print(\"Difference: \", (mse_only_mean_preds - mse_preds)) # so the model does do significantly better than just average "
   ]
  },
  {
   "cell_type": "markdown",
   "metadata": {},
   "source": [
    "### CQ4\n"
   ]
  },
  {
   "cell_type": "markdown",
   "metadata": {},
   "source": [
    "- What songs are deemed similar?\n",
    "  - Based on technical similarities (e.g. energy) rather than more abstract ones like mood\n",
    "  - Clustering!\n",
    "    - K-means clustering (centroid-based)\n",
    "    - DBSCAN (density-based)\n"
   ]
  },
  {
   "cell_type": "code",
   "execution_count": 48,
   "metadata": {},
   "outputs": [
    {
     "name": "stdout",
     "output_type": "stream",
     "text": [
      "Best silhouette score:  <built-in function max>\n",
      "Best epsilon value and min samples:  [2030.6262626262628, 5.0]\n",
      "Estimated number of clusters: 8\n",
      "Estimated number of noise points: 47\n"
     ]
    }
   ],
   "source": [
    "from sklearn.cluster import DBSCAN\n",
    "from sklearn.metrics import silhouette_score # measures how similar an object is to its own cluster compared to others (score=1 indicated well-matched, score=-1 indicates that a point may match better to another cluster)\n",
    "\n",
    "eps_values = np.linspace(1, 3000, 100) # through previous iterations - difference in s score not terribly different if their are 100 or 200 eps values; runtime is the only major difference\n",
    "min_sample_values = np.linspace(5, 100, 20)\n",
    "\n",
    "best_labels = None\n",
    "best_score = 0\n",
    "best_vals = None\n",
    "best_model = None\n",
    "\n",
    "for eps in eps_values:\n",
    "    for min_sample in min_sample_values:\n",
    "        dbscan = DBSCAN(eps=eps, min_samples=min_sample, metric='manhattan') # manhattan because of high dimensiality, suspected array sparseness\n",
    "        labels = dbscan.fit_predict(X_all)\n",
    "        if len(np.unique(labels)) > 3: # want at least 3 sep clusters\n",
    "            silhouette_avg = silhouette_score(X_all, labels)\n",
    "            if silhouette_avg > best_score:\n",
    "                best_score = silhouette_avg\n",
    "                best_val = [eps, min_sample]\n",
    "                best_labels = labels\n",
    "                best_model = dbscan\n",
    "\n",
    "print(\"Best silhouette score: \", max)\n",
    "print(\"Best epsilon value and min samples: \", best_val)\n",
    "\n",
    "n_clusters_ = len(set(best_labels)) - (1 if -1 in labels else 0)\n",
    "n_noise_ = list(best_labels).count(-1)\n",
    "\n",
    "print(\"Estimated number of clusters: %d\" % n_clusters_)\n",
    "print(\"Estimated number of noise points: %d\" % n_noise_)"
   ]
  },
  {
   "cell_type": "code",
   "execution_count": 49,
   "metadata": {},
   "outputs": [],
   "source": [
    "def get_names_in_cluster(cluster_label):\n",
    "    indices = np.where(best_labels == cluster_label)[0]\n",
    "    selected_rows = corr_rows.iloc[indices][\"name\"]\n",
    "\n",
    "    return pd.DataFrame(data=selected_rows.to_list(), columns=[cluster_label])"
   ]
  },
  {
   "cell_type": "code",
   "execution_count": 50,
   "metadata": {},
   "outputs": [
    {
     "data": {
      "text/html": [
       "<div>\n",
       "<style scoped>\n",
       "    .dataframe tbody tr th:only-of-type {\n",
       "        vertical-align: middle;\n",
       "    }\n",
       "\n",
       "    .dataframe tbody tr th {\n",
       "        vertical-align: top;\n",
       "    }\n",
       "\n",
       "    .dataframe thead th {\n",
       "        text-align: right;\n",
       "    }\n",
       "</style>\n",
       "<table border=\"1\" class=\"dataframe\">\n",
       "  <thead>\n",
       "    <tr style=\"text-align: right;\">\n",
       "      <th></th>\n",
       "      <th>-1</th>\n",
       "    </tr>\n",
       "  </thead>\n",
       "  <tbody>\n",
       "    <tr>\n",
       "      <th>0</th>\n",
       "      <td>All Too Well (10 Minute Version) (Taylor's Ver...</td>\n",
       "    </tr>\n",
       "    <tr>\n",
       "      <th>1</th>\n",
       "      <td>Last Kiss (Taylor's Version)</td>\n",
       "    </tr>\n",
       "    <tr>\n",
       "      <th>2</th>\n",
       "      <td>Blank Space - Voice Memo</td>\n",
       "    </tr>\n",
       "    <tr>\n",
       "      <th>3</th>\n",
       "      <td>Last Kiss</td>\n",
       "    </tr>\n",
       "    <tr>\n",
       "      <th>4</th>\n",
       "      <td>The Last Time (feat. Gary Lightbody of Snow Pa...</td>\n",
       "    </tr>\n",
       "    <tr>\n",
       "      <th>5</th>\n",
       "      <td>epiphany</td>\n",
       "    </tr>\n",
       "    <tr>\n",
       "      <th>6</th>\n",
       "      <td>Cruel Summer</td>\n",
       "    </tr>\n",
       "    <tr>\n",
       "      <th>7</th>\n",
       "      <td>Dear John</td>\n",
       "    </tr>\n",
       "    <tr>\n",
       "      <th>8</th>\n",
       "      <td>happiness</td>\n",
       "    </tr>\n",
       "    <tr>\n",
       "      <th>9</th>\n",
       "      <td>Dear John (Taylor's Version)</td>\n",
       "    </tr>\n",
       "    <tr>\n",
       "      <th>10</th>\n",
       "      <td>closure</td>\n",
       "    </tr>\n",
       "    <tr>\n",
       "      <th>11</th>\n",
       "      <td>I Forgot That You Existed</td>\n",
       "    </tr>\n",
       "    <tr>\n",
       "      <th>12</th>\n",
       "      <td>It’s Nice To Have A Friend</td>\n",
       "    </tr>\n",
       "    <tr>\n",
       "      <th>13</th>\n",
       "      <td>Timeless (Taylor’s Version) (From The Vault)</td>\n",
       "    </tr>\n",
       "    <tr>\n",
       "      <th>14</th>\n",
       "      <td>State Of Grace (Acoustic Version) (Taylor's Ve...</td>\n",
       "    </tr>\n",
       "    <tr>\n",
       "      <th>15</th>\n",
       "      <td>Long Live (Taylor's Version)</td>\n",
       "    </tr>\n",
       "    <tr>\n",
       "      <th>16</th>\n",
       "      <td>Untouchable</td>\n",
       "    </tr>\n",
       "    <tr>\n",
       "      <th>17</th>\n",
       "      <td>Long Live</td>\n",
       "    </tr>\n",
       "    <tr>\n",
       "      <th>18</th>\n",
       "      <td>I Wish You Would - Voice Memo</td>\n",
       "    </tr>\n",
       "    <tr>\n",
       "      <th>19</th>\n",
       "      <td>The Last Time</td>\n",
       "    </tr>\n",
       "    <tr>\n",
       "      <th>20</th>\n",
       "      <td>Enchanted (Taylor's Version)</td>\n",
       "    </tr>\n",
       "    <tr>\n",
       "      <th>21</th>\n",
       "      <td>Vigilante Shit</td>\n",
       "    </tr>\n",
       "    <tr>\n",
       "      <th>22</th>\n",
       "      <td>All Too Well</td>\n",
       "    </tr>\n",
       "    <tr>\n",
       "      <th>23</th>\n",
       "      <td>Castles Crumbling (feat. Hayley Williams) (Tay...</td>\n",
       "    </tr>\n",
       "    <tr>\n",
       "      <th>24</th>\n",
       "      <td>epiphany</td>\n",
       "    </tr>\n",
       "  </tbody>\n",
       "</table>\n",
       "</div>"
      ],
      "text/plain": [
       "                                                   -1\n",
       "0   All Too Well (10 Minute Version) (Taylor's Ver...\n",
       "1                        Last Kiss (Taylor's Version)\n",
       "2                            Blank Space - Voice Memo\n",
       "3                                           Last Kiss\n",
       "4   The Last Time (feat. Gary Lightbody of Snow Pa...\n",
       "5                                            epiphany\n",
       "6                                        Cruel Summer\n",
       "7                                           Dear John\n",
       "8                                           happiness\n",
       "9                        Dear John (Taylor's Version)\n",
       "10                                            closure\n",
       "11                          I Forgot That You Existed\n",
       "12                         It’s Nice To Have A Friend\n",
       "13       Timeless (Taylor’s Version) (From The Vault)\n",
       "14  State Of Grace (Acoustic Version) (Taylor's Ve...\n",
       "15                       Long Live (Taylor's Version)\n",
       "16                                        Untouchable\n",
       "17                                          Long Live\n",
       "18                      I Wish You Would - Voice Memo\n",
       "19                                      The Last Time\n",
       "20                       Enchanted (Taylor's Version)\n",
       "21                                     Vigilante Shit\n",
       "22                                       All Too Well\n",
       "23  Castles Crumbling (feat. Hayley Williams) (Tay...\n",
       "24                                           epiphany"
      ]
     },
     "execution_count": 50,
     "metadata": {},
     "output_type": "execute_result"
    }
   ],
   "source": [
    "get_names_in_cluster(-1).head(25) # songs that didn't belong to any cluster"
   ]
  },
  {
   "cell_type": "code",
   "execution_count": 51,
   "metadata": {},
   "outputs": [
    {
     "data": {
      "text/html": [
       "<div>\n",
       "<style scoped>\n",
       "    .dataframe tbody tr th:only-of-type {\n",
       "        vertical-align: middle;\n",
       "    }\n",
       "\n",
       "    .dataframe tbody tr th {\n",
       "        vertical-align: top;\n",
       "    }\n",
       "\n",
       "    .dataframe thead th {\n",
       "        text-align: right;\n",
       "    }\n",
       "</style>\n",
       "<table border=\"1\" class=\"dataframe\">\n",
       "  <thead>\n",
       "    <tr style=\"text-align: right;\">\n",
       "      <th></th>\n",
       "      <th>0</th>\n",
       "    </tr>\n",
       "  </thead>\n",
       "  <tbody>\n",
       "    <tr>\n",
       "      <th>0</th>\n",
       "      <td>King Of My Heart</td>\n",
       "    </tr>\n",
       "    <tr>\n",
       "      <th>1</th>\n",
       "      <td>Invisible</td>\n",
       "    </tr>\n",
       "    <tr>\n",
       "      <th>2</th>\n",
       "      <td>Gorgeous</td>\n",
       "    </tr>\n",
       "    <tr>\n",
       "      <th>3</th>\n",
       "      <td>Shake It Off</td>\n",
       "    </tr>\n",
       "    <tr>\n",
       "      <th>4</th>\n",
       "      <td>Lavender Haze</td>\n",
       "    </tr>\n",
       "    <tr>\n",
       "      <th>5</th>\n",
       "      <td>Dear Reader</td>\n",
       "    </tr>\n",
       "    <tr>\n",
       "      <th>6</th>\n",
       "      <td>Stay Stay Stay (Taylor's Version)</td>\n",
       "    </tr>\n",
       "    <tr>\n",
       "      <th>7</th>\n",
       "      <td>mirrorball</td>\n",
       "    </tr>\n",
       "    <tr>\n",
       "      <th>8</th>\n",
       "      <td>The Outside</td>\n",
       "    </tr>\n",
       "    <tr>\n",
       "      <th>9</th>\n",
       "      <td>Question...?</td>\n",
       "    </tr>\n",
       "    <tr>\n",
       "      <th>10</th>\n",
       "      <td>The Very First Night (Taylor's Version) (From ...</td>\n",
       "    </tr>\n",
       "    <tr>\n",
       "      <th>11</th>\n",
       "      <td>So It Goes...</td>\n",
       "    </tr>\n",
       "    <tr>\n",
       "      <th>12</th>\n",
       "      <td>...Ready For It?</td>\n",
       "    </tr>\n",
       "    <tr>\n",
       "      <th>13</th>\n",
       "      <td>False God</td>\n",
       "    </tr>\n",
       "    <tr>\n",
       "      <th>14</th>\n",
       "      <td>Afterglow</td>\n",
       "    </tr>\n",
       "    <tr>\n",
       "      <th>15</th>\n",
       "      <td>Teardrops On My Guitar - Radio Single Remix</td>\n",
       "    </tr>\n",
       "    <tr>\n",
       "      <th>16</th>\n",
       "      <td>Paper Rings</td>\n",
       "    </tr>\n",
       "    <tr>\n",
       "      <th>17</th>\n",
       "      <td>Babe (Taylor's Version) (From The Vault)</td>\n",
       "    </tr>\n",
       "    <tr>\n",
       "      <th>18</th>\n",
       "      <td>Forever &amp; Always</td>\n",
       "    </tr>\n",
       "    <tr>\n",
       "      <th>19</th>\n",
       "      <td>dorothea</td>\n",
       "    </tr>\n",
       "    <tr>\n",
       "      <th>20</th>\n",
       "      <td>Tell Me Why</td>\n",
       "    </tr>\n",
       "    <tr>\n",
       "      <th>21</th>\n",
       "      <td>Anti-Hero</td>\n",
       "    </tr>\n",
       "    <tr>\n",
       "      <th>22</th>\n",
       "      <td>the lakes - bonus track</td>\n",
       "    </tr>\n",
       "    <tr>\n",
       "      <th>23</th>\n",
       "      <td>Lavender Haze</td>\n",
       "    </tr>\n",
       "    <tr>\n",
       "      <th>24</th>\n",
       "      <td>Bad Blood</td>\n",
       "    </tr>\n",
       "  </tbody>\n",
       "</table>\n",
       "</div>"
      ],
      "text/plain": [
       "                                                    0\n",
       "0                                    King Of My Heart\n",
       "1                                           Invisible\n",
       "2                                            Gorgeous\n",
       "3                                        Shake It Off\n",
       "4                                       Lavender Haze\n",
       "5                                         Dear Reader\n",
       "6                   Stay Stay Stay (Taylor's Version)\n",
       "7                                          mirrorball\n",
       "8                                         The Outside\n",
       "9                                        Question...?\n",
       "10  The Very First Night (Taylor's Version) (From ...\n",
       "11                                      So It Goes...\n",
       "12                                   ...Ready For It?\n",
       "13                                          False God\n",
       "14                                          Afterglow\n",
       "15        Teardrops On My Guitar - Radio Single Remix\n",
       "16                                        Paper Rings\n",
       "17           Babe (Taylor's Version) (From The Vault)\n",
       "18                                   Forever & Always\n",
       "19                                           dorothea\n",
       "20                                        Tell Me Why\n",
       "21                                          Anti-Hero\n",
       "22                            the lakes - bonus track\n",
       "23                                      Lavender Haze\n",
       "24                                          Bad Blood"
      ]
     },
     "execution_count": 51,
     "metadata": {},
     "output_type": "execute_result"
    }
   ],
   "source": [
    "get_names_in_cluster(0).head(25) # cluster 1"
   ]
  },
  {
   "cell_type": "code",
   "execution_count": 52,
   "metadata": {},
   "outputs": [
    {
     "data": {
      "text/html": [
       "<div>\n",
       "<style scoped>\n",
       "    .dataframe tbody tr th:only-of-type {\n",
       "        vertical-align: middle;\n",
       "    }\n",
       "\n",
       "    .dataframe tbody tr th {\n",
       "        vertical-align: top;\n",
       "    }\n",
       "\n",
       "    .dataframe thead th {\n",
       "        text-align: right;\n",
       "    }\n",
       "</style>\n",
       "<table border=\"1\" class=\"dataframe\">\n",
       "  <thead>\n",
       "    <tr style=\"text-align: right;\">\n",
       "      <th></th>\n",
       "      <th>1</th>\n",
       "    </tr>\n",
       "  </thead>\n",
       "  <tbody>\n",
       "    <tr>\n",
       "      <th>0</th>\n",
       "      <td>Delicate</td>\n",
       "    </tr>\n",
       "    <tr>\n",
       "      <th>1</th>\n",
       "      <td>Tim McGraw</td>\n",
       "    </tr>\n",
       "    <tr>\n",
       "      <th>2</th>\n",
       "      <td>mad woman</td>\n",
       "    </tr>\n",
       "    <tr>\n",
       "      <th>3</th>\n",
       "      <td>I Did Something Bad</td>\n",
       "    </tr>\n",
       "    <tr>\n",
       "      <th>4</th>\n",
       "      <td>Labyrinth</td>\n",
       "    </tr>\n",
       "    <tr>\n",
       "      <th>5</th>\n",
       "      <td>Labyrinth</td>\n",
       "    </tr>\n",
       "    <tr>\n",
       "      <th>6</th>\n",
       "      <td>Haunted</td>\n",
       "    </tr>\n",
       "    <tr>\n",
       "      <th>7</th>\n",
       "      <td>Out Of The Woods</td>\n",
       "    </tr>\n",
       "    <tr>\n",
       "      <th>8</th>\n",
       "      <td>The Other Side Of The Door (Taylor’s Version)</td>\n",
       "    </tr>\n",
       "    <tr>\n",
       "      <th>9</th>\n",
       "      <td>Everything Has Changed</td>\n",
       "    </tr>\n",
       "    <tr>\n",
       "      <th>10</th>\n",
       "      <td>Getaway Car</td>\n",
       "    </tr>\n",
       "    <tr>\n",
       "      <th>11</th>\n",
       "      <td>Begin Again (Taylor's Version)</td>\n",
       "    </tr>\n",
       "    <tr>\n",
       "      <th>12</th>\n",
       "      <td>Run (feat. Ed Sheeran) (Taylor’s Version) (Fro...</td>\n",
       "    </tr>\n",
       "    <tr>\n",
       "      <th>13</th>\n",
       "      <td>Tied Together with a Smile</td>\n",
       "    </tr>\n",
       "    <tr>\n",
       "      <th>14</th>\n",
       "      <td>Jump Then Fall (Taylor’s Version)</td>\n",
       "    </tr>\n",
       "    <tr>\n",
       "      <th>15</th>\n",
       "      <td>Out Of The Woods</td>\n",
       "    </tr>\n",
       "    <tr>\n",
       "      <th>16</th>\n",
       "      <td>Blank Space</td>\n",
       "    </tr>\n",
       "    <tr>\n",
       "      <th>17</th>\n",
       "      <td>champagne problems</td>\n",
       "    </tr>\n",
       "    <tr>\n",
       "      <th>18</th>\n",
       "      <td>The Best Day (Taylor’s Version)</td>\n",
       "    </tr>\n",
       "    <tr>\n",
       "      <th>19</th>\n",
       "      <td>The Best Day</td>\n",
       "    </tr>\n",
       "    <tr>\n",
       "      <th>20</th>\n",
       "      <td>White Horse</td>\n",
       "    </tr>\n",
       "    <tr>\n",
       "      <th>21</th>\n",
       "      <td>Love Story (Taylor’s Version)</td>\n",
       "    </tr>\n",
       "    <tr>\n",
       "      <th>22</th>\n",
       "      <td>The Lucky One</td>\n",
       "    </tr>\n",
       "    <tr>\n",
       "      <th>23</th>\n",
       "      <td>Mine - POP Mix</td>\n",
       "    </tr>\n",
       "    <tr>\n",
       "      <th>24</th>\n",
       "      <td>the last great american dynasty</td>\n",
       "    </tr>\n",
       "  </tbody>\n",
       "</table>\n",
       "</div>"
      ],
      "text/plain": [
       "                                                    1\n",
       "0                                            Delicate\n",
       "1                                          Tim McGraw\n",
       "2                                           mad woman\n",
       "3                                 I Did Something Bad\n",
       "4                                           Labyrinth\n",
       "5                                           Labyrinth\n",
       "6                                             Haunted\n",
       "7                                    Out Of The Woods\n",
       "8       The Other Side Of The Door (Taylor’s Version)\n",
       "9                              Everything Has Changed\n",
       "10                                        Getaway Car\n",
       "11                     Begin Again (Taylor's Version)\n",
       "12  Run (feat. Ed Sheeran) (Taylor’s Version) (Fro...\n",
       "13                         Tied Together with a Smile\n",
       "14                  Jump Then Fall (Taylor’s Version)\n",
       "15                                   Out Of The Woods\n",
       "16                                        Blank Space\n",
       "17                                 champagne problems\n",
       "18                    The Best Day (Taylor’s Version)\n",
       "19                                       The Best Day\n",
       "20                                        White Horse\n",
       "21                      Love Story (Taylor’s Version)\n",
       "22                                      The Lucky One\n",
       "23                                     Mine - POP Mix\n",
       "24                    the last great american dynasty"
      ]
     },
     "execution_count": 52,
     "metadata": {},
     "output_type": "execute_result"
    }
   ],
   "source": [
    "get_names_in_cluster(1).head(25) # cluster 2 "
   ]
  },
  {
   "cell_type": "markdown",
   "metadata": {},
   "source": [
    "### Conclusion\n",
    "\n",
    "| Question                                                              | Answer                                                                                                                                                                                                                                                                                                                                                                            |\n",
    "| --------------------------------------------------------------------- | --------------------------------------------------------------------------------------------------------------------------------------------------------------------------------------------------------------------------------------------------------------------------------------------------------------------------------------------------------------------------------- |\n",
    "| Can song popularity be predicted based on the spotify given features? | <ul><li>To some extent, yes, but not very reliably</li><li>TS's general popularity with the public is more likely a bigger indicator</li><li>Other important factors that weren't considered here but could have a large effect are the mood of the song (ex: sad, happy, angry), over-arching theme (ex: breakup, love), and genre (ex: ultra pop, country-ish, indie)</li></ul> |\n",
    "| Will future TS songs be, on average, more popular than current ones?  | <ul><li>Trendline says yes</li><li>But it again depends on general popularity of TS more so than the song numerical features</li></ul>                                                                                                                                                                                                                                            |\n",
    "| Of the features tested, which ones were the most important?           | <ul><li>Loudness, speechiness, and liveness, respectively</li></ul>                                                                                                                                                                                                                                                                                                               |\n",
    "| What do the songs clustered look like?                                | <ul><li>Long story short: messy</li><li>Again, solely using technical aspects of a song seem to be a poor indicator of important song characteristics that would affect groupings (ex: I Did Something Bad and Tied Together With A Smile are placed in the same cluster despite being clearly different)</li></ul>                                                               |\n"
   ]
  },
  {
   "cell_type": "code",
   "execution_count": null,
   "metadata": {},
   "outputs": [],
   "source": []
  }
 ],
 "metadata": {
  "kernelspec": {
   "display_name": "Python 3",
   "language": "python",
   "name": "python3"
  },
  "language_info": {
   "codemirror_mode": {
    "name": "ipython",
    "version": 3
   },
   "file_extension": ".py",
   "mimetype": "text/x-python",
   "name": "python",
   "nbconvert_exporter": "python",
   "pygments_lexer": "ipython3",
   "version": "3.8.17"
  },
  "orig_nbformat": 4
 },
 "nbformat": 4,
 "nbformat_minor": 2
}
